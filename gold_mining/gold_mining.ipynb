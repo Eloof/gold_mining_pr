{
 "cells": [
  {
   "cell_type": "markdown",
   "id": "fdeb6f86",
   "metadata": {},
   "source": [
    "# Прототип модели машинного обучения для «Цифры»"
   ]
  },
  {
   "cell_type": "markdown",
   "id": "a39acad6",
   "metadata": {},
   "source": [
    "**Введение**"
   ]
  },
  {
   "cell_type": "markdown",
   "id": "27715f1b",
   "metadata": {},
   "source": [
    "Для исследования предоставлены данные о технологическом процесе добычи золота из руды: \n",
    "\n",
    "* `gold_recovery_train_new.csv` — обучающая выборка;\n",
    "\n",
    "\n",
    "* `gold_recovery_test_new.csv` — тестовая выборка;\n",
    "\n",
    "\n",
    "* `gold_recovery_full_new.csv` — исходные данные."
   ]
  },
  {
   "cell_type": "markdown",
   "id": "fb35d8bd",
   "metadata": {},
   "source": [
    "**Цель исследования**"
   ]
  },
  {
   "cell_type": "markdown",
   "id": "e12efd9e",
   "metadata": {},
   "source": [
    "Подготовьте прототип модели, предсказывающей коэффициент восстановления золота из золотосодержащей руды."
   ]
  },
  {
   "cell_type": "markdown",
   "id": "e246014d",
   "metadata": {},
   "source": [
    "**Ход исследования** "
   ]
  },
  {
   "cell_type": "markdown",
   "id": "41682b99",
   "metadata": {},
   "source": [
    "1. Подготовить данные\n",
    "\n",
    "\n",
    "2. Проанализировать данные\n",
    "\n",
    "\n",
    "3. Построить модель\n",
    "\n",
    "\n",
    "4. Написать вывод"
   ]
  },
  {
   "cell_type": "markdown",
   "id": "1c1bddcc",
   "metadata": {},
   "source": [
    "**Информация о стоблцах**"
   ]
  },
  {
   "cell_type": "markdown",
   "id": "ab2b4045",
   "metadata": {},
   "source": [
    "*Технологический процесс*\n",
    "\n",
    "* Rougher feed — исходное сырье\n",
    "* Rougher additions (или reagent additions) — флотационные реагенты: Xanthate, Sulphate, Depressant\n",
    "* Xanthate **— ксантогенат (промотер, или активатор флотации);\n",
    "* Sulphate — сульфат (на данном производстве сульфид натрия);\n",
    "* Depressant — депрессант (силикат натрия).\n",
    "* Rougher process (англ. «грубый процесс») — флотация\n",
    "* Rougher tails — отвальные хвосты\n",
    "* Float banks — флотационная установка\n",
    "* Cleaner process — очистка\n",
    "* Rougher Au — черновой концентрат золота\n",
    "* Final Au — финальный концентрат золота\n",
    "\n",
    "*Параметры этапов*\n",
    "\n",
    "* air amount — объём воздуха\n",
    "* fluid levels — уровень жидкости\n",
    "* feed size — размер гранул сырья\n",
    "* feed rate — скорость подачи"
   ]
  },
  {
   "cell_type": "markdown",
   "id": "b87d8804",
   "metadata": {},
   "source": [
    "## Подготовка данных"
   ]
  },
  {
   "cell_type": "markdown",
   "id": "1abcb612",
   "metadata": {},
   "source": [
    "Подключим все необходимые библиотеки. "
   ]
  },
  {
   "cell_type": "code",
   "execution_count": 1,
   "id": "2d34c88b",
   "metadata": {},
   "outputs": [
    {
     "data": {
      "text/html": [
       "<style>.container { width:80% !important; }</style>"
      ],
      "text/plain": [
       "<IPython.core.display.HTML object>"
      ]
     },
     "metadata": {},
     "output_type": "display_data"
    }
   ],
   "source": [
    "from IPython.core.display import display, HTML\n",
    "display(HTML(\"<style>.container { width:80% !important; }</style>\"))\n",
    "import os \n",
    "import pandas as pd\n",
    "from sklearn.metrics import mean_absolute_error \n",
    "import numpy as np\n",
    "from collections import Counter\n",
    "import matplotlib.pyplot as plt\n",
    "import seaborn as sns\n",
    "from sklearn.preprocessing import StandardScaler\n",
    "from sklearn.model_selection import cross_val_score\n",
    "from sklearn.linear_model import LinearRegression\n",
    "from sklearn.tree import DecisionTreeRegressor\n",
    "from sklearn.ensemble import RandomForestRegressor\n",
    "from sklearn.metrics import make_scorer\n",
    "from sklearn.dummy import DummyRegressor"
   ]
  },
  {
   "cell_type": "markdown",
   "id": "5b6006f8",
   "metadata": {},
   "source": [
    "Откроем файлы и изучим их."
   ]
  },
  {
   "cell_type": "code",
   "execution_count": 2,
   "id": "69b163e6",
   "metadata": {},
   "outputs": [],
   "source": [
    "pth_1 = '/datasets/gold_recovery_train_new.csv'\n",
    "pth_2 = '/datasets/gold_recovery_test_new.csv'\n",
    "pth_3 = '/datasets/gold_recovery_full_new.csv'\n",
    "\n",
    "pth_1_1 = 'gold_recovery_train_new.csv'\n",
    "pth_2_1 = 'gold_recovery_test_new.csv'\n",
    "pth_3_1 = 'gold_recovery_full_new.csv'\n",
    "\n",
    "if (os.path.exists(pth_1) and \n",
    "    os.path.exists(pth_2) and \n",
    "    os.path.exists(pth_3)):\n",
    "    \n",
    "    data_train = pd.read_csv(pth_1)\n",
    "    data_test = pd.read_csv(pth_2)\n",
    "    data_full = pd.read_csv(pth_3)\n",
    "    \n",
    "else:\n",
    "    \n",
    "    data_train = pd.read_csv(pth_1_1)\n",
    "    data_test = pd.read_csv(pth_2_1)\n",
    "    data_full = pd.read_csv(pth_3_1)"
   ]
  },
  {
   "cell_type": "markdown",
   "id": "df10b6e1",
   "metadata": {},
   "source": [
    "Данные успешно загружены. Выведем информацию. "
   ]
  },
  {
   "cell_type": "code",
   "execution_count": 3,
   "id": "568967fc",
   "metadata": {
    "scrolled": true
   },
   "outputs": [
    {
     "data": {
      "text/html": [
       "<div>\n",
       "<style scoped>\n",
       "    .dataframe tbody tr th:only-of-type {\n",
       "        vertical-align: middle;\n",
       "    }\n",
       "\n",
       "    .dataframe tbody tr th {\n",
       "        vertical-align: top;\n",
       "    }\n",
       "\n",
       "    .dataframe thead th {\n",
       "        text-align: right;\n",
       "    }\n",
       "</style>\n",
       "<table border=\"1\" class=\"dataframe\">\n",
       "  <thead>\n",
       "    <tr style=\"text-align: right;\">\n",
       "      <th></th>\n",
       "      <th>date</th>\n",
       "      <th>final.output.concentrate_ag</th>\n",
       "      <th>final.output.concentrate_pb</th>\n",
       "      <th>final.output.concentrate_sol</th>\n",
       "      <th>final.output.concentrate_au</th>\n",
       "      <th>final.output.recovery</th>\n",
       "      <th>final.output.tail_ag</th>\n",
       "      <th>final.output.tail_pb</th>\n",
       "      <th>final.output.tail_sol</th>\n",
       "      <th>final.output.tail_au</th>\n",
       "      <th>...</th>\n",
       "      <th>secondary_cleaner.state.floatbank4_a_air</th>\n",
       "      <th>secondary_cleaner.state.floatbank4_a_level</th>\n",
       "      <th>secondary_cleaner.state.floatbank4_b_air</th>\n",
       "      <th>secondary_cleaner.state.floatbank4_b_level</th>\n",
       "      <th>secondary_cleaner.state.floatbank5_a_air</th>\n",
       "      <th>secondary_cleaner.state.floatbank5_a_level</th>\n",
       "      <th>secondary_cleaner.state.floatbank5_b_air</th>\n",
       "      <th>secondary_cleaner.state.floatbank5_b_level</th>\n",
       "      <th>secondary_cleaner.state.floatbank6_a_air</th>\n",
       "      <th>secondary_cleaner.state.floatbank6_a_level</th>\n",
       "    </tr>\n",
       "  </thead>\n",
       "  <tbody>\n",
       "    <tr>\n",
       "      <th>0</th>\n",
       "      <td>2016-01-15 00:00:00</td>\n",
       "      <td>6.055403</td>\n",
       "      <td>9.889648</td>\n",
       "      <td>5.507324</td>\n",
       "      <td>42.192020</td>\n",
       "      <td>70.541216</td>\n",
       "      <td>10.411962</td>\n",
       "      <td>0.895447</td>\n",
       "      <td>16.904297</td>\n",
       "      <td>2.143149</td>\n",
       "      <td>...</td>\n",
       "      <td>14.016835</td>\n",
       "      <td>-502.488007</td>\n",
       "      <td>12.099931</td>\n",
       "      <td>-504.715942</td>\n",
       "      <td>9.925633</td>\n",
       "      <td>-498.310211</td>\n",
       "      <td>8.079666</td>\n",
       "      <td>-500.470978</td>\n",
       "      <td>14.151341</td>\n",
       "      <td>-605.841980</td>\n",
       "    </tr>\n",
       "    <tr>\n",
       "      <th>1</th>\n",
       "      <td>2016-01-15 01:00:00</td>\n",
       "      <td>6.029369</td>\n",
       "      <td>9.968944</td>\n",
       "      <td>5.257781</td>\n",
       "      <td>42.701629</td>\n",
       "      <td>69.266198</td>\n",
       "      <td>10.462676</td>\n",
       "      <td>0.927452</td>\n",
       "      <td>16.634514</td>\n",
       "      <td>2.224930</td>\n",
       "      <td>...</td>\n",
       "      <td>13.992281</td>\n",
       "      <td>-505.503262</td>\n",
       "      <td>11.950531</td>\n",
       "      <td>-501.331529</td>\n",
       "      <td>10.039245</td>\n",
       "      <td>-500.169983</td>\n",
       "      <td>7.984757</td>\n",
       "      <td>-500.582168</td>\n",
       "      <td>13.998353</td>\n",
       "      <td>-599.787184</td>\n",
       "    </tr>\n",
       "    <tr>\n",
       "      <th>2</th>\n",
       "      <td>2016-01-15 02:00:00</td>\n",
       "      <td>6.055926</td>\n",
       "      <td>10.213995</td>\n",
       "      <td>5.383759</td>\n",
       "      <td>42.657501</td>\n",
       "      <td>68.116445</td>\n",
       "      <td>10.507046</td>\n",
       "      <td>0.953716</td>\n",
       "      <td>16.208849</td>\n",
       "      <td>2.257889</td>\n",
       "      <td>...</td>\n",
       "      <td>14.015015</td>\n",
       "      <td>-502.520901</td>\n",
       "      <td>11.912783</td>\n",
       "      <td>-501.133383</td>\n",
       "      <td>10.070913</td>\n",
       "      <td>-500.129135</td>\n",
       "      <td>8.013877</td>\n",
       "      <td>-500.517572</td>\n",
       "      <td>14.028663</td>\n",
       "      <td>-601.427363</td>\n",
       "    </tr>\n",
       "    <tr>\n",
       "      <th>3</th>\n",
       "      <td>2016-01-15 03:00:00</td>\n",
       "      <td>6.047977</td>\n",
       "      <td>9.977019</td>\n",
       "      <td>4.858634</td>\n",
       "      <td>42.689819</td>\n",
       "      <td>68.347543</td>\n",
       "      <td>10.422762</td>\n",
       "      <td>0.883763</td>\n",
       "      <td>16.532835</td>\n",
       "      <td>2.146849</td>\n",
       "      <td>...</td>\n",
       "      <td>14.036510</td>\n",
       "      <td>-500.857308</td>\n",
       "      <td>11.999550</td>\n",
       "      <td>-501.193686</td>\n",
       "      <td>9.970366</td>\n",
       "      <td>-499.201640</td>\n",
       "      <td>7.977324</td>\n",
       "      <td>-500.255908</td>\n",
       "      <td>14.005551</td>\n",
       "      <td>-599.996129</td>\n",
       "    </tr>\n",
       "    <tr>\n",
       "      <th>4</th>\n",
       "      <td>2016-01-15 04:00:00</td>\n",
       "      <td>6.148599</td>\n",
       "      <td>10.142511</td>\n",
       "      <td>4.939416</td>\n",
       "      <td>42.774141</td>\n",
       "      <td>66.927016</td>\n",
       "      <td>10.360302</td>\n",
       "      <td>0.792826</td>\n",
       "      <td>16.525686</td>\n",
       "      <td>2.055292</td>\n",
       "      <td>...</td>\n",
       "      <td>14.027298</td>\n",
       "      <td>-499.838632</td>\n",
       "      <td>11.953070</td>\n",
       "      <td>-501.053894</td>\n",
       "      <td>9.925709</td>\n",
       "      <td>-501.686727</td>\n",
       "      <td>7.894242</td>\n",
       "      <td>-500.356035</td>\n",
       "      <td>13.996647</td>\n",
       "      <td>-601.496691</td>\n",
       "    </tr>\n",
       "  </tbody>\n",
       "</table>\n",
       "<p>5 rows × 87 columns</p>\n",
       "</div>"
      ],
      "text/plain": [
       "                  date  final.output.concentrate_ag  \\\n",
       "0  2016-01-15 00:00:00                     6.055403   \n",
       "1  2016-01-15 01:00:00                     6.029369   \n",
       "2  2016-01-15 02:00:00                     6.055926   \n",
       "3  2016-01-15 03:00:00                     6.047977   \n",
       "4  2016-01-15 04:00:00                     6.148599   \n",
       "\n",
       "   final.output.concentrate_pb  final.output.concentrate_sol  \\\n",
       "0                     9.889648                      5.507324   \n",
       "1                     9.968944                      5.257781   \n",
       "2                    10.213995                      5.383759   \n",
       "3                     9.977019                      4.858634   \n",
       "4                    10.142511                      4.939416   \n",
       "\n",
       "   final.output.concentrate_au  final.output.recovery  final.output.tail_ag  \\\n",
       "0                    42.192020              70.541216             10.411962   \n",
       "1                    42.701629              69.266198             10.462676   \n",
       "2                    42.657501              68.116445             10.507046   \n",
       "3                    42.689819              68.347543             10.422762   \n",
       "4                    42.774141              66.927016             10.360302   \n",
       "\n",
       "   final.output.tail_pb  final.output.tail_sol  final.output.tail_au  ...  \\\n",
       "0              0.895447              16.904297              2.143149  ...   \n",
       "1              0.927452              16.634514              2.224930  ...   \n",
       "2              0.953716              16.208849              2.257889  ...   \n",
       "3              0.883763              16.532835              2.146849  ...   \n",
       "4              0.792826              16.525686              2.055292  ...   \n",
       "\n",
       "   secondary_cleaner.state.floatbank4_a_air  \\\n",
       "0                                 14.016835   \n",
       "1                                 13.992281   \n",
       "2                                 14.015015   \n",
       "3                                 14.036510   \n",
       "4                                 14.027298   \n",
       "\n",
       "   secondary_cleaner.state.floatbank4_a_level  \\\n",
       "0                                 -502.488007   \n",
       "1                                 -505.503262   \n",
       "2                                 -502.520901   \n",
       "3                                 -500.857308   \n",
       "4                                 -499.838632   \n",
       "\n",
       "   secondary_cleaner.state.floatbank4_b_air  \\\n",
       "0                                 12.099931   \n",
       "1                                 11.950531   \n",
       "2                                 11.912783   \n",
       "3                                 11.999550   \n",
       "4                                 11.953070   \n",
       "\n",
       "   secondary_cleaner.state.floatbank4_b_level  \\\n",
       "0                                 -504.715942   \n",
       "1                                 -501.331529   \n",
       "2                                 -501.133383   \n",
       "3                                 -501.193686   \n",
       "4                                 -501.053894   \n",
       "\n",
       "   secondary_cleaner.state.floatbank5_a_air  \\\n",
       "0                                  9.925633   \n",
       "1                                 10.039245   \n",
       "2                                 10.070913   \n",
       "3                                  9.970366   \n",
       "4                                  9.925709   \n",
       "\n",
       "   secondary_cleaner.state.floatbank5_a_level  \\\n",
       "0                                 -498.310211   \n",
       "1                                 -500.169983   \n",
       "2                                 -500.129135   \n",
       "3                                 -499.201640   \n",
       "4                                 -501.686727   \n",
       "\n",
       "   secondary_cleaner.state.floatbank5_b_air  \\\n",
       "0                                  8.079666   \n",
       "1                                  7.984757   \n",
       "2                                  8.013877   \n",
       "3                                  7.977324   \n",
       "4                                  7.894242   \n",
       "\n",
       "   secondary_cleaner.state.floatbank5_b_level  \\\n",
       "0                                 -500.470978   \n",
       "1                                 -500.582168   \n",
       "2                                 -500.517572   \n",
       "3                                 -500.255908   \n",
       "4                                 -500.356035   \n",
       "\n",
       "   secondary_cleaner.state.floatbank6_a_air  \\\n",
       "0                                 14.151341   \n",
       "1                                 13.998353   \n",
       "2                                 14.028663   \n",
       "3                                 14.005551   \n",
       "4                                 13.996647   \n",
       "\n",
       "   secondary_cleaner.state.floatbank6_a_level  \n",
       "0                                 -605.841980  \n",
       "1                                 -599.787184  \n",
       "2                                 -601.427363  \n",
       "3                                 -599.996129  \n",
       "4                                 -601.496691  \n",
       "\n",
       "[5 rows x 87 columns]"
      ]
     },
     "metadata": {},
     "output_type": "display_data"
    },
    {
     "name": "stdout",
     "output_type": "stream",
     "text": [
      "<class 'pandas.core.frame.DataFrame'>\n",
      "RangeIndex: 14149 entries, 0 to 14148\n",
      "Data columns (total 87 columns):\n",
      " #   Column                                              Non-Null Count  Dtype  \n",
      "---  ------                                              --------------  -----  \n",
      " 0   date                                                14149 non-null  object \n",
      " 1   final.output.concentrate_ag                         14148 non-null  float64\n",
      " 2   final.output.concentrate_pb                         14148 non-null  float64\n",
      " 3   final.output.concentrate_sol                        13938 non-null  float64\n",
      " 4   final.output.concentrate_au                         14149 non-null  float64\n",
      " 5   final.output.recovery                               14149 non-null  float64\n",
      " 6   final.output.tail_ag                                14149 non-null  float64\n",
      " 7   final.output.tail_pb                                14049 non-null  float64\n",
      " 8   final.output.tail_sol                               14144 non-null  float64\n",
      " 9   final.output.tail_au                                14149 non-null  float64\n",
      " 10  primary_cleaner.input.sulfate                       14129 non-null  float64\n",
      " 11  primary_cleaner.input.depressant                    14117 non-null  float64\n",
      " 12  primary_cleaner.input.feed_size                     14149 non-null  float64\n",
      " 13  primary_cleaner.input.xanthate                      14049 non-null  float64\n",
      " 14  primary_cleaner.output.concentrate_ag               14149 non-null  float64\n",
      " 15  primary_cleaner.output.concentrate_pb               14063 non-null  float64\n",
      " 16  primary_cleaner.output.concentrate_sol              13863 non-null  float64\n",
      " 17  primary_cleaner.output.concentrate_au               14149 non-null  float64\n",
      " 18  primary_cleaner.output.tail_ag                      14148 non-null  float64\n",
      " 19  primary_cleaner.output.tail_pb                      14134 non-null  float64\n",
      " 20  primary_cleaner.output.tail_sol                     14103 non-null  float64\n",
      " 21  primary_cleaner.output.tail_au                      14149 non-null  float64\n",
      " 22  primary_cleaner.state.floatbank8_a_air              14145 non-null  float64\n",
      " 23  primary_cleaner.state.floatbank8_a_level            14148 non-null  float64\n",
      " 24  primary_cleaner.state.floatbank8_b_air              14145 non-null  float64\n",
      " 25  primary_cleaner.state.floatbank8_b_level            14148 non-null  float64\n",
      " 26  primary_cleaner.state.floatbank8_c_air              14147 non-null  float64\n",
      " 27  primary_cleaner.state.floatbank8_c_level            14148 non-null  float64\n",
      " 28  primary_cleaner.state.floatbank8_d_air              14146 non-null  float64\n",
      " 29  primary_cleaner.state.floatbank8_d_level            14148 non-null  float64\n",
      " 30  rougher.calculation.sulfate_to_au_concentrate       14148 non-null  float64\n",
      " 31  rougher.calculation.floatbank10_sulfate_to_au_feed  14148 non-null  float64\n",
      " 32  rougher.calculation.floatbank11_sulfate_to_au_feed  14148 non-null  float64\n",
      " 33  rougher.calculation.au_pb_ratio                     14149 non-null  float64\n",
      " 34  rougher.input.feed_ag                               14149 non-null  float64\n",
      " 35  rougher.input.feed_pb                               14049 non-null  float64\n",
      " 36  rougher.input.feed_rate                             14141 non-null  float64\n",
      " 37  rougher.input.feed_size                             14005 non-null  float64\n",
      " 38  rougher.input.feed_sol                              14071 non-null  float64\n",
      " 39  rougher.input.feed_au                               14149 non-null  float64\n",
      " 40  rougher.input.floatbank10_sulfate                   14120 non-null  float64\n",
      " 41  rougher.input.floatbank10_xanthate                  14141 non-null  float64\n",
      " 42  rougher.input.floatbank11_sulfate                   14113 non-null  float64\n",
      " 43  rougher.input.floatbank11_xanthate                  13721 non-null  float64\n",
      " 44  rougher.output.concentrate_ag                       14149 non-null  float64\n",
      " 45  rougher.output.concentrate_pb                       14149 non-null  float64\n",
      " 46  rougher.output.concentrate_sol                      14127 non-null  float64\n",
      " 47  rougher.output.concentrate_au                       14149 non-null  float64\n",
      " 48  rougher.output.recovery                             14149 non-null  float64\n",
      " 49  rougher.output.tail_ag                              14148 non-null  float64\n",
      " 50  rougher.output.tail_pb                              14149 non-null  float64\n",
      " 51  rougher.output.tail_sol                             14149 non-null  float64\n",
      " 52  rougher.output.tail_au                              14149 non-null  float64\n",
      " 53  rougher.state.floatbank10_a_air                     14148 non-null  float64\n",
      " 54  rougher.state.floatbank10_a_level                   14148 non-null  float64\n",
      " 55  rougher.state.floatbank10_b_air                     14148 non-null  float64\n",
      " 56  rougher.state.floatbank10_b_level                   14148 non-null  float64\n",
      " 57  rougher.state.floatbank10_c_air                     14148 non-null  float64\n",
      " 58  rougher.state.floatbank10_c_level                   14148 non-null  float64\n",
      " 59  rougher.state.floatbank10_d_air                     14149 non-null  float64\n",
      " 60  rougher.state.floatbank10_d_level                   14149 non-null  float64\n",
      " 61  rougher.state.floatbank10_e_air                     13713 non-null  float64\n",
      " 62  rougher.state.floatbank10_e_level                   14149 non-null  float64\n",
      " 63  rougher.state.floatbank10_f_air                     14149 non-null  float64\n",
      " 64  rougher.state.floatbank10_f_level                   14149 non-null  float64\n",
      " 65  secondary_cleaner.output.tail_ag                    14147 non-null  float64\n",
      " 66  secondary_cleaner.output.tail_pb                    14139 non-null  float64\n",
      " 67  secondary_cleaner.output.tail_sol                   12544 non-null  float64\n",
      " 68  secondary_cleaner.output.tail_au                    14149 non-null  float64\n",
      " 69  secondary_cleaner.state.floatbank2_a_air            13932 non-null  float64\n",
      " 70  secondary_cleaner.state.floatbank2_a_level          14148 non-null  float64\n",
      " 71  secondary_cleaner.state.floatbank2_b_air            14128 non-null  float64\n",
      " 72  secondary_cleaner.state.floatbank2_b_level          14148 non-null  float64\n",
      " 73  secondary_cleaner.state.floatbank3_a_air            14145 non-null  float64\n",
      " 74  secondary_cleaner.state.floatbank3_a_level          14148 non-null  float64\n",
      " 75  secondary_cleaner.state.floatbank3_b_air            14148 non-null  float64\n",
      " 76  secondary_cleaner.state.floatbank3_b_level          14148 non-null  float64\n",
      " 77  secondary_cleaner.state.floatbank4_a_air            14143 non-null  float64\n",
      " 78  secondary_cleaner.state.floatbank4_a_level          14148 non-null  float64\n",
      " 79  secondary_cleaner.state.floatbank4_b_air            14148 non-null  float64\n",
      " 80  secondary_cleaner.state.floatbank4_b_level          14148 non-null  float64\n",
      " 81  secondary_cleaner.state.floatbank5_a_air            14148 non-null  float64\n",
      " 82  secondary_cleaner.state.floatbank5_a_level          14148 non-null  float64\n",
      " 83  secondary_cleaner.state.floatbank5_b_air            14148 non-null  float64\n",
      " 84  secondary_cleaner.state.floatbank5_b_level          14148 non-null  float64\n",
      " 85  secondary_cleaner.state.floatbank6_a_air            14147 non-null  float64\n",
      " 86  secondary_cleaner.state.floatbank6_a_level          14148 non-null  float64\n",
      "dtypes: float64(86), object(1)\n",
      "memory usage: 9.4+ MB\n"
     ]
    },
    {
     "data": {
      "text/plain": [
       "None"
      ]
     },
     "metadata": {},
     "output_type": "display_data"
    },
    {
     "name": "stdout",
     "output_type": "stream",
     "text": [
      "\n",
      "------------------------------------------------------------------------------------------------------------\n"
     ]
    },
    {
     "data": {
      "text/html": [
       "<div>\n",
       "<style scoped>\n",
       "    .dataframe tbody tr th:only-of-type {\n",
       "        vertical-align: middle;\n",
       "    }\n",
       "\n",
       "    .dataframe tbody tr th {\n",
       "        vertical-align: top;\n",
       "    }\n",
       "\n",
       "    .dataframe thead th {\n",
       "        text-align: right;\n",
       "    }\n",
       "</style>\n",
       "<table border=\"1\" class=\"dataframe\">\n",
       "  <thead>\n",
       "    <tr style=\"text-align: right;\">\n",
       "      <th></th>\n",
       "      <th>date</th>\n",
       "      <th>primary_cleaner.input.sulfate</th>\n",
       "      <th>primary_cleaner.input.depressant</th>\n",
       "      <th>primary_cleaner.input.feed_size</th>\n",
       "      <th>primary_cleaner.input.xanthate</th>\n",
       "      <th>primary_cleaner.state.floatbank8_a_air</th>\n",
       "      <th>primary_cleaner.state.floatbank8_a_level</th>\n",
       "      <th>primary_cleaner.state.floatbank8_b_air</th>\n",
       "      <th>primary_cleaner.state.floatbank8_b_level</th>\n",
       "      <th>primary_cleaner.state.floatbank8_c_air</th>\n",
       "      <th>...</th>\n",
       "      <th>secondary_cleaner.state.floatbank4_a_air</th>\n",
       "      <th>secondary_cleaner.state.floatbank4_a_level</th>\n",
       "      <th>secondary_cleaner.state.floatbank4_b_air</th>\n",
       "      <th>secondary_cleaner.state.floatbank4_b_level</th>\n",
       "      <th>secondary_cleaner.state.floatbank5_a_air</th>\n",
       "      <th>secondary_cleaner.state.floatbank5_a_level</th>\n",
       "      <th>secondary_cleaner.state.floatbank5_b_air</th>\n",
       "      <th>secondary_cleaner.state.floatbank5_b_level</th>\n",
       "      <th>secondary_cleaner.state.floatbank6_a_air</th>\n",
       "      <th>secondary_cleaner.state.floatbank6_a_level</th>\n",
       "    </tr>\n",
       "  </thead>\n",
       "  <tbody>\n",
       "    <tr>\n",
       "      <th>0</th>\n",
       "      <td>2016-09-01 00:59:59</td>\n",
       "      <td>210.800909</td>\n",
       "      <td>14.993118</td>\n",
       "      <td>8.080000</td>\n",
       "      <td>1.005021</td>\n",
       "      <td>1398.981301</td>\n",
       "      <td>-500.225577</td>\n",
       "      <td>1399.144926</td>\n",
       "      <td>-499.919735</td>\n",
       "      <td>1400.102998</td>\n",
       "      <td>...</td>\n",
       "      <td>12.023554</td>\n",
       "      <td>-497.795834</td>\n",
       "      <td>8.016656</td>\n",
       "      <td>-501.289139</td>\n",
       "      <td>7.946562</td>\n",
       "      <td>-432.317850</td>\n",
       "      <td>4.872511</td>\n",
       "      <td>-500.037437</td>\n",
       "      <td>26.705889</td>\n",
       "      <td>-499.709414</td>\n",
       "    </tr>\n",
       "    <tr>\n",
       "      <th>1</th>\n",
       "      <td>2016-09-01 01:59:59</td>\n",
       "      <td>215.392455</td>\n",
       "      <td>14.987471</td>\n",
       "      <td>8.080000</td>\n",
       "      <td>0.990469</td>\n",
       "      <td>1398.777912</td>\n",
       "      <td>-500.057435</td>\n",
       "      <td>1398.055362</td>\n",
       "      <td>-499.778182</td>\n",
       "      <td>1396.151033</td>\n",
       "      <td>...</td>\n",
       "      <td>12.058140</td>\n",
       "      <td>-498.695773</td>\n",
       "      <td>8.130979</td>\n",
       "      <td>-499.634209</td>\n",
       "      <td>7.958270</td>\n",
       "      <td>-525.839648</td>\n",
       "      <td>4.878850</td>\n",
       "      <td>-500.162375</td>\n",
       "      <td>25.019940</td>\n",
       "      <td>-499.819438</td>\n",
       "    </tr>\n",
       "    <tr>\n",
       "      <th>2</th>\n",
       "      <td>2016-09-01 02:59:59</td>\n",
       "      <td>215.259946</td>\n",
       "      <td>12.884934</td>\n",
       "      <td>7.786667</td>\n",
       "      <td>0.996043</td>\n",
       "      <td>1398.493666</td>\n",
       "      <td>-500.868360</td>\n",
       "      <td>1398.860436</td>\n",
       "      <td>-499.764529</td>\n",
       "      <td>1398.075709</td>\n",
       "      <td>...</td>\n",
       "      <td>11.962366</td>\n",
       "      <td>-498.767484</td>\n",
       "      <td>8.096893</td>\n",
       "      <td>-500.827423</td>\n",
       "      <td>8.071056</td>\n",
       "      <td>-500.801673</td>\n",
       "      <td>4.905125</td>\n",
       "      <td>-499.828510</td>\n",
       "      <td>24.994862</td>\n",
       "      <td>-500.622559</td>\n",
       "    </tr>\n",
       "    <tr>\n",
       "      <th>3</th>\n",
       "      <td>2016-09-01 03:59:59</td>\n",
       "      <td>215.336236</td>\n",
       "      <td>12.006805</td>\n",
       "      <td>7.640000</td>\n",
       "      <td>0.863514</td>\n",
       "      <td>1399.618111</td>\n",
       "      <td>-498.863574</td>\n",
       "      <td>1397.440120</td>\n",
       "      <td>-499.211024</td>\n",
       "      <td>1400.129303</td>\n",
       "      <td>...</td>\n",
       "      <td>12.033091</td>\n",
       "      <td>-498.350935</td>\n",
       "      <td>8.074946</td>\n",
       "      <td>-499.474407</td>\n",
       "      <td>7.897085</td>\n",
       "      <td>-500.868509</td>\n",
       "      <td>4.931400</td>\n",
       "      <td>-499.963623</td>\n",
       "      <td>24.948919</td>\n",
       "      <td>-498.709987</td>\n",
       "    </tr>\n",
       "    <tr>\n",
       "      <th>4</th>\n",
       "      <td>2016-09-01 04:59:59</td>\n",
       "      <td>199.099327</td>\n",
       "      <td>10.682530</td>\n",
       "      <td>7.530000</td>\n",
       "      <td>0.805575</td>\n",
       "      <td>1401.268123</td>\n",
       "      <td>-500.808305</td>\n",
       "      <td>1398.128818</td>\n",
       "      <td>-499.504543</td>\n",
       "      <td>1402.172226</td>\n",
       "      <td>...</td>\n",
       "      <td>12.025367</td>\n",
       "      <td>-500.786497</td>\n",
       "      <td>8.054678</td>\n",
       "      <td>-500.397500</td>\n",
       "      <td>8.107890</td>\n",
       "      <td>-509.526725</td>\n",
       "      <td>4.957674</td>\n",
       "      <td>-500.360026</td>\n",
       "      <td>25.003331</td>\n",
       "      <td>-500.856333</td>\n",
       "    </tr>\n",
       "  </tbody>\n",
       "</table>\n",
       "<p>5 rows × 53 columns</p>\n",
       "</div>"
      ],
      "text/plain": [
       "                  date  primary_cleaner.input.sulfate  \\\n",
       "0  2016-09-01 00:59:59                     210.800909   \n",
       "1  2016-09-01 01:59:59                     215.392455   \n",
       "2  2016-09-01 02:59:59                     215.259946   \n",
       "3  2016-09-01 03:59:59                     215.336236   \n",
       "4  2016-09-01 04:59:59                     199.099327   \n",
       "\n",
       "   primary_cleaner.input.depressant  primary_cleaner.input.feed_size  \\\n",
       "0                         14.993118                         8.080000   \n",
       "1                         14.987471                         8.080000   \n",
       "2                         12.884934                         7.786667   \n",
       "3                         12.006805                         7.640000   \n",
       "4                         10.682530                         7.530000   \n",
       "\n",
       "   primary_cleaner.input.xanthate  primary_cleaner.state.floatbank8_a_air  \\\n",
       "0                        1.005021                             1398.981301   \n",
       "1                        0.990469                             1398.777912   \n",
       "2                        0.996043                             1398.493666   \n",
       "3                        0.863514                             1399.618111   \n",
       "4                        0.805575                             1401.268123   \n",
       "\n",
       "   primary_cleaner.state.floatbank8_a_level  \\\n",
       "0                               -500.225577   \n",
       "1                               -500.057435   \n",
       "2                               -500.868360   \n",
       "3                               -498.863574   \n",
       "4                               -500.808305   \n",
       "\n",
       "   primary_cleaner.state.floatbank8_b_air  \\\n",
       "0                             1399.144926   \n",
       "1                             1398.055362   \n",
       "2                             1398.860436   \n",
       "3                             1397.440120   \n",
       "4                             1398.128818   \n",
       "\n",
       "   primary_cleaner.state.floatbank8_b_level  \\\n",
       "0                               -499.919735   \n",
       "1                               -499.778182   \n",
       "2                               -499.764529   \n",
       "3                               -499.211024   \n",
       "4                               -499.504543   \n",
       "\n",
       "   primary_cleaner.state.floatbank8_c_air  ...  \\\n",
       "0                             1400.102998  ...   \n",
       "1                             1396.151033  ...   \n",
       "2                             1398.075709  ...   \n",
       "3                             1400.129303  ...   \n",
       "4                             1402.172226  ...   \n",
       "\n",
       "   secondary_cleaner.state.floatbank4_a_air  \\\n",
       "0                                 12.023554   \n",
       "1                                 12.058140   \n",
       "2                                 11.962366   \n",
       "3                                 12.033091   \n",
       "4                                 12.025367   \n",
       "\n",
       "   secondary_cleaner.state.floatbank4_a_level  \\\n",
       "0                                 -497.795834   \n",
       "1                                 -498.695773   \n",
       "2                                 -498.767484   \n",
       "3                                 -498.350935   \n",
       "4                                 -500.786497   \n",
       "\n",
       "   secondary_cleaner.state.floatbank4_b_air  \\\n",
       "0                                  8.016656   \n",
       "1                                  8.130979   \n",
       "2                                  8.096893   \n",
       "3                                  8.074946   \n",
       "4                                  8.054678   \n",
       "\n",
       "   secondary_cleaner.state.floatbank4_b_level  \\\n",
       "0                                 -501.289139   \n",
       "1                                 -499.634209   \n",
       "2                                 -500.827423   \n",
       "3                                 -499.474407   \n",
       "4                                 -500.397500   \n",
       "\n",
       "   secondary_cleaner.state.floatbank5_a_air  \\\n",
       "0                                  7.946562   \n",
       "1                                  7.958270   \n",
       "2                                  8.071056   \n",
       "3                                  7.897085   \n",
       "4                                  8.107890   \n",
       "\n",
       "   secondary_cleaner.state.floatbank5_a_level  \\\n",
       "0                                 -432.317850   \n",
       "1                                 -525.839648   \n",
       "2                                 -500.801673   \n",
       "3                                 -500.868509   \n",
       "4                                 -509.526725   \n",
       "\n",
       "   secondary_cleaner.state.floatbank5_b_air  \\\n",
       "0                                  4.872511   \n",
       "1                                  4.878850   \n",
       "2                                  4.905125   \n",
       "3                                  4.931400   \n",
       "4                                  4.957674   \n",
       "\n",
       "   secondary_cleaner.state.floatbank5_b_level  \\\n",
       "0                                 -500.037437   \n",
       "1                                 -500.162375   \n",
       "2                                 -499.828510   \n",
       "3                                 -499.963623   \n",
       "4                                 -500.360026   \n",
       "\n",
       "   secondary_cleaner.state.floatbank6_a_air  \\\n",
       "0                                 26.705889   \n",
       "1                                 25.019940   \n",
       "2                                 24.994862   \n",
       "3                                 24.948919   \n",
       "4                                 25.003331   \n",
       "\n",
       "   secondary_cleaner.state.floatbank6_a_level  \n",
       "0                                 -499.709414  \n",
       "1                                 -499.819438  \n",
       "2                                 -500.622559  \n",
       "3                                 -498.709987  \n",
       "4                                 -500.856333  \n",
       "\n",
       "[5 rows x 53 columns]"
      ]
     },
     "metadata": {},
     "output_type": "display_data"
    },
    {
     "name": "stdout",
     "output_type": "stream",
     "text": [
      "<class 'pandas.core.frame.DataFrame'>\n",
      "RangeIndex: 5290 entries, 0 to 5289\n",
      "Data columns (total 53 columns):\n",
      " #   Column                                      Non-Null Count  Dtype  \n",
      "---  ------                                      --------------  -----  \n",
      " 0   date                                        5290 non-null   object \n",
      " 1   primary_cleaner.input.sulfate               5286 non-null   float64\n",
      " 2   primary_cleaner.input.depressant            5285 non-null   float64\n",
      " 3   primary_cleaner.input.feed_size             5290 non-null   float64\n",
      " 4   primary_cleaner.input.xanthate              5286 non-null   float64\n",
      " 5   primary_cleaner.state.floatbank8_a_air      5290 non-null   float64\n",
      " 6   primary_cleaner.state.floatbank8_a_level    5290 non-null   float64\n",
      " 7   primary_cleaner.state.floatbank8_b_air      5290 non-null   float64\n",
      " 8   primary_cleaner.state.floatbank8_b_level    5290 non-null   float64\n",
      " 9   primary_cleaner.state.floatbank8_c_air      5290 non-null   float64\n",
      " 10  primary_cleaner.state.floatbank8_c_level    5290 non-null   float64\n",
      " 11  primary_cleaner.state.floatbank8_d_air      5290 non-null   float64\n",
      " 12  primary_cleaner.state.floatbank8_d_level    5290 non-null   float64\n",
      " 13  rougher.input.feed_ag                       5290 non-null   float64\n",
      " 14  rougher.input.feed_pb                       5290 non-null   float64\n",
      " 15  rougher.input.feed_rate                     5287 non-null   float64\n",
      " 16  rougher.input.feed_size                     5289 non-null   float64\n",
      " 17  rougher.input.feed_sol                      5269 non-null   float64\n",
      " 18  rougher.input.feed_au                       5290 non-null   float64\n",
      " 19  rougher.input.floatbank10_sulfate           5285 non-null   float64\n",
      " 20  rougher.input.floatbank10_xanthate          5290 non-null   float64\n",
      " 21  rougher.input.floatbank11_sulfate           5282 non-null   float64\n",
      " 22  rougher.input.floatbank11_xanthate          5265 non-null   float64\n",
      " 23  rougher.state.floatbank10_a_air             5290 non-null   float64\n",
      " 24  rougher.state.floatbank10_a_level           5290 non-null   float64\n",
      " 25  rougher.state.floatbank10_b_air             5290 non-null   float64\n",
      " 26  rougher.state.floatbank10_b_level           5290 non-null   float64\n",
      " 27  rougher.state.floatbank10_c_air             5290 non-null   float64\n",
      " 28  rougher.state.floatbank10_c_level           5290 non-null   float64\n",
      " 29  rougher.state.floatbank10_d_air             5290 non-null   float64\n",
      " 30  rougher.state.floatbank10_d_level           5290 non-null   float64\n",
      " 31  rougher.state.floatbank10_e_air             5290 non-null   float64\n",
      " 32  rougher.state.floatbank10_e_level           5290 non-null   float64\n",
      " 33  rougher.state.floatbank10_f_air             5290 non-null   float64\n",
      " 34  rougher.state.floatbank10_f_level           5290 non-null   float64\n",
      " 35  secondary_cleaner.state.floatbank2_a_air    5287 non-null   float64\n",
      " 36  secondary_cleaner.state.floatbank2_a_level  5290 non-null   float64\n",
      " 37  secondary_cleaner.state.floatbank2_b_air    5288 non-null   float64\n",
      " 38  secondary_cleaner.state.floatbank2_b_level  5290 non-null   float64\n",
      " 39  secondary_cleaner.state.floatbank3_a_air    5281 non-null   float64\n",
      " 40  secondary_cleaner.state.floatbank3_a_level  5290 non-null   float64\n",
      " 41  secondary_cleaner.state.floatbank3_b_air    5290 non-null   float64\n",
      " 42  secondary_cleaner.state.floatbank3_b_level  5290 non-null   float64\n",
      " 43  secondary_cleaner.state.floatbank4_a_air    5290 non-null   float64\n",
      " 44  secondary_cleaner.state.floatbank4_a_level  5290 non-null   float64\n",
      " 45  secondary_cleaner.state.floatbank4_b_air    5290 non-null   float64\n",
      " 46  secondary_cleaner.state.floatbank4_b_level  5290 non-null   float64\n",
      " 47  secondary_cleaner.state.floatbank5_a_air    5290 non-null   float64\n",
      " 48  secondary_cleaner.state.floatbank5_a_level  5290 non-null   float64\n",
      " 49  secondary_cleaner.state.floatbank5_b_air    5290 non-null   float64\n",
      " 50  secondary_cleaner.state.floatbank5_b_level  5290 non-null   float64\n",
      " 51  secondary_cleaner.state.floatbank6_a_air    5290 non-null   float64\n",
      " 52  secondary_cleaner.state.floatbank6_a_level  5290 non-null   float64\n",
      "dtypes: float64(52), object(1)\n",
      "memory usage: 2.1+ MB\n"
     ]
    },
    {
     "data": {
      "text/plain": [
       "None"
      ]
     },
     "metadata": {},
     "output_type": "display_data"
    },
    {
     "name": "stdout",
     "output_type": "stream",
     "text": [
      "\n",
      "------------------------------------------------------------------------------------------------------------\n"
     ]
    },
    {
     "data": {
      "text/html": [
       "<div>\n",
       "<style scoped>\n",
       "    .dataframe tbody tr th:only-of-type {\n",
       "        vertical-align: middle;\n",
       "    }\n",
       "\n",
       "    .dataframe tbody tr th {\n",
       "        vertical-align: top;\n",
       "    }\n",
       "\n",
       "    .dataframe thead th {\n",
       "        text-align: right;\n",
       "    }\n",
       "</style>\n",
       "<table border=\"1\" class=\"dataframe\">\n",
       "  <thead>\n",
       "    <tr style=\"text-align: right;\">\n",
       "      <th></th>\n",
       "      <th>date</th>\n",
       "      <th>final.output.concentrate_ag</th>\n",
       "      <th>final.output.concentrate_pb</th>\n",
       "      <th>final.output.concentrate_sol</th>\n",
       "      <th>final.output.concentrate_au</th>\n",
       "      <th>final.output.recovery</th>\n",
       "      <th>final.output.tail_ag</th>\n",
       "      <th>final.output.tail_pb</th>\n",
       "      <th>final.output.tail_sol</th>\n",
       "      <th>final.output.tail_au</th>\n",
       "      <th>...</th>\n",
       "      <th>secondary_cleaner.state.floatbank4_a_air</th>\n",
       "      <th>secondary_cleaner.state.floatbank4_a_level</th>\n",
       "      <th>secondary_cleaner.state.floatbank4_b_air</th>\n",
       "      <th>secondary_cleaner.state.floatbank4_b_level</th>\n",
       "      <th>secondary_cleaner.state.floatbank5_a_air</th>\n",
       "      <th>secondary_cleaner.state.floatbank5_a_level</th>\n",
       "      <th>secondary_cleaner.state.floatbank5_b_air</th>\n",
       "      <th>secondary_cleaner.state.floatbank5_b_level</th>\n",
       "      <th>secondary_cleaner.state.floatbank6_a_air</th>\n",
       "      <th>secondary_cleaner.state.floatbank6_a_level</th>\n",
       "    </tr>\n",
       "  </thead>\n",
       "  <tbody>\n",
       "    <tr>\n",
       "      <th>0</th>\n",
       "      <td>2016-01-15 00:00:00</td>\n",
       "      <td>6.055403</td>\n",
       "      <td>9.889648</td>\n",
       "      <td>5.507324</td>\n",
       "      <td>42.192020</td>\n",
       "      <td>70.541216</td>\n",
       "      <td>10.411962</td>\n",
       "      <td>0.895447</td>\n",
       "      <td>16.904297</td>\n",
       "      <td>2.143149</td>\n",
       "      <td>...</td>\n",
       "      <td>14.016835</td>\n",
       "      <td>-502.488007</td>\n",
       "      <td>12.099931</td>\n",
       "      <td>-504.715942</td>\n",
       "      <td>9.925633</td>\n",
       "      <td>-498.310211</td>\n",
       "      <td>8.079666</td>\n",
       "      <td>-500.470978</td>\n",
       "      <td>14.151341</td>\n",
       "      <td>-605.841980</td>\n",
       "    </tr>\n",
       "    <tr>\n",
       "      <th>1</th>\n",
       "      <td>2016-01-15 01:00:00</td>\n",
       "      <td>6.029369</td>\n",
       "      <td>9.968944</td>\n",
       "      <td>5.257781</td>\n",
       "      <td>42.701629</td>\n",
       "      <td>69.266198</td>\n",
       "      <td>10.462676</td>\n",
       "      <td>0.927452</td>\n",
       "      <td>16.634514</td>\n",
       "      <td>2.224930</td>\n",
       "      <td>...</td>\n",
       "      <td>13.992281</td>\n",
       "      <td>-505.503262</td>\n",
       "      <td>11.950531</td>\n",
       "      <td>-501.331529</td>\n",
       "      <td>10.039245</td>\n",
       "      <td>-500.169983</td>\n",
       "      <td>7.984757</td>\n",
       "      <td>-500.582168</td>\n",
       "      <td>13.998353</td>\n",
       "      <td>-599.787184</td>\n",
       "    </tr>\n",
       "    <tr>\n",
       "      <th>2</th>\n",
       "      <td>2016-01-15 02:00:00</td>\n",
       "      <td>6.055926</td>\n",
       "      <td>10.213995</td>\n",
       "      <td>5.383759</td>\n",
       "      <td>42.657501</td>\n",
       "      <td>68.116445</td>\n",
       "      <td>10.507046</td>\n",
       "      <td>0.953716</td>\n",
       "      <td>16.208849</td>\n",
       "      <td>2.257889</td>\n",
       "      <td>...</td>\n",
       "      <td>14.015015</td>\n",
       "      <td>-502.520901</td>\n",
       "      <td>11.912783</td>\n",
       "      <td>-501.133383</td>\n",
       "      <td>10.070913</td>\n",
       "      <td>-500.129135</td>\n",
       "      <td>8.013877</td>\n",
       "      <td>-500.517572</td>\n",
       "      <td>14.028663</td>\n",
       "      <td>-601.427363</td>\n",
       "    </tr>\n",
       "    <tr>\n",
       "      <th>3</th>\n",
       "      <td>2016-01-15 03:00:00</td>\n",
       "      <td>6.047977</td>\n",
       "      <td>9.977019</td>\n",
       "      <td>4.858634</td>\n",
       "      <td>42.689819</td>\n",
       "      <td>68.347543</td>\n",
       "      <td>10.422762</td>\n",
       "      <td>0.883763</td>\n",
       "      <td>16.532835</td>\n",
       "      <td>2.146849</td>\n",
       "      <td>...</td>\n",
       "      <td>14.036510</td>\n",
       "      <td>-500.857308</td>\n",
       "      <td>11.999550</td>\n",
       "      <td>-501.193686</td>\n",
       "      <td>9.970366</td>\n",
       "      <td>-499.201640</td>\n",
       "      <td>7.977324</td>\n",
       "      <td>-500.255908</td>\n",
       "      <td>14.005551</td>\n",
       "      <td>-599.996129</td>\n",
       "    </tr>\n",
       "    <tr>\n",
       "      <th>4</th>\n",
       "      <td>2016-01-15 04:00:00</td>\n",
       "      <td>6.148599</td>\n",
       "      <td>10.142511</td>\n",
       "      <td>4.939416</td>\n",
       "      <td>42.774141</td>\n",
       "      <td>66.927016</td>\n",
       "      <td>10.360302</td>\n",
       "      <td>0.792826</td>\n",
       "      <td>16.525686</td>\n",
       "      <td>2.055292</td>\n",
       "      <td>...</td>\n",
       "      <td>14.027298</td>\n",
       "      <td>-499.838632</td>\n",
       "      <td>11.953070</td>\n",
       "      <td>-501.053894</td>\n",
       "      <td>9.925709</td>\n",
       "      <td>-501.686727</td>\n",
       "      <td>7.894242</td>\n",
       "      <td>-500.356035</td>\n",
       "      <td>13.996647</td>\n",
       "      <td>-601.496691</td>\n",
       "    </tr>\n",
       "  </tbody>\n",
       "</table>\n",
       "<p>5 rows × 87 columns</p>\n",
       "</div>"
      ],
      "text/plain": [
       "                  date  final.output.concentrate_ag  \\\n",
       "0  2016-01-15 00:00:00                     6.055403   \n",
       "1  2016-01-15 01:00:00                     6.029369   \n",
       "2  2016-01-15 02:00:00                     6.055926   \n",
       "3  2016-01-15 03:00:00                     6.047977   \n",
       "4  2016-01-15 04:00:00                     6.148599   \n",
       "\n",
       "   final.output.concentrate_pb  final.output.concentrate_sol  \\\n",
       "0                     9.889648                      5.507324   \n",
       "1                     9.968944                      5.257781   \n",
       "2                    10.213995                      5.383759   \n",
       "3                     9.977019                      4.858634   \n",
       "4                    10.142511                      4.939416   \n",
       "\n",
       "   final.output.concentrate_au  final.output.recovery  final.output.tail_ag  \\\n",
       "0                    42.192020              70.541216             10.411962   \n",
       "1                    42.701629              69.266198             10.462676   \n",
       "2                    42.657501              68.116445             10.507046   \n",
       "3                    42.689819              68.347543             10.422762   \n",
       "4                    42.774141              66.927016             10.360302   \n",
       "\n",
       "   final.output.tail_pb  final.output.tail_sol  final.output.tail_au  ...  \\\n",
       "0              0.895447              16.904297              2.143149  ...   \n",
       "1              0.927452              16.634514              2.224930  ...   \n",
       "2              0.953716              16.208849              2.257889  ...   \n",
       "3              0.883763              16.532835              2.146849  ...   \n",
       "4              0.792826              16.525686              2.055292  ...   \n",
       "\n",
       "   secondary_cleaner.state.floatbank4_a_air  \\\n",
       "0                                 14.016835   \n",
       "1                                 13.992281   \n",
       "2                                 14.015015   \n",
       "3                                 14.036510   \n",
       "4                                 14.027298   \n",
       "\n",
       "   secondary_cleaner.state.floatbank4_a_level  \\\n",
       "0                                 -502.488007   \n",
       "1                                 -505.503262   \n",
       "2                                 -502.520901   \n",
       "3                                 -500.857308   \n",
       "4                                 -499.838632   \n",
       "\n",
       "   secondary_cleaner.state.floatbank4_b_air  \\\n",
       "0                                 12.099931   \n",
       "1                                 11.950531   \n",
       "2                                 11.912783   \n",
       "3                                 11.999550   \n",
       "4                                 11.953070   \n",
       "\n",
       "   secondary_cleaner.state.floatbank4_b_level  \\\n",
       "0                                 -504.715942   \n",
       "1                                 -501.331529   \n",
       "2                                 -501.133383   \n",
       "3                                 -501.193686   \n",
       "4                                 -501.053894   \n",
       "\n",
       "   secondary_cleaner.state.floatbank5_a_air  \\\n",
       "0                                  9.925633   \n",
       "1                                 10.039245   \n",
       "2                                 10.070913   \n",
       "3                                  9.970366   \n",
       "4                                  9.925709   \n",
       "\n",
       "   secondary_cleaner.state.floatbank5_a_level  \\\n",
       "0                                 -498.310211   \n",
       "1                                 -500.169983   \n",
       "2                                 -500.129135   \n",
       "3                                 -499.201640   \n",
       "4                                 -501.686727   \n",
       "\n",
       "   secondary_cleaner.state.floatbank5_b_air  \\\n",
       "0                                  8.079666   \n",
       "1                                  7.984757   \n",
       "2                                  8.013877   \n",
       "3                                  7.977324   \n",
       "4                                  7.894242   \n",
       "\n",
       "   secondary_cleaner.state.floatbank5_b_level  \\\n",
       "0                                 -500.470978   \n",
       "1                                 -500.582168   \n",
       "2                                 -500.517572   \n",
       "3                                 -500.255908   \n",
       "4                                 -500.356035   \n",
       "\n",
       "   secondary_cleaner.state.floatbank6_a_air  \\\n",
       "0                                 14.151341   \n",
       "1                                 13.998353   \n",
       "2                                 14.028663   \n",
       "3                                 14.005551   \n",
       "4                                 13.996647   \n",
       "\n",
       "   secondary_cleaner.state.floatbank6_a_level  \n",
       "0                                 -605.841980  \n",
       "1                                 -599.787184  \n",
       "2                                 -601.427363  \n",
       "3                                 -599.996129  \n",
       "4                                 -601.496691  \n",
       "\n",
       "[5 rows x 87 columns]"
      ]
     },
     "metadata": {},
     "output_type": "display_data"
    },
    {
     "name": "stdout",
     "output_type": "stream",
     "text": [
      "<class 'pandas.core.frame.DataFrame'>\n",
      "RangeIndex: 19439 entries, 0 to 19438\n",
      "Data columns (total 87 columns):\n",
      " #   Column                                              Non-Null Count  Dtype  \n",
      "---  ------                                              --------------  -----  \n",
      " 0   date                                                19439 non-null  object \n",
      " 1   final.output.concentrate_ag                         19438 non-null  float64\n",
      " 2   final.output.concentrate_pb                         19438 non-null  float64\n",
      " 3   final.output.concentrate_sol                        19228 non-null  float64\n",
      " 4   final.output.concentrate_au                         19439 non-null  float64\n",
      " 5   final.output.recovery                               19439 non-null  float64\n",
      " 6   final.output.tail_ag                                19438 non-null  float64\n",
      " 7   final.output.tail_pb                                19338 non-null  float64\n",
      " 8   final.output.tail_sol                               19433 non-null  float64\n",
      " 9   final.output.tail_au                                19439 non-null  float64\n",
      " 10  primary_cleaner.input.sulfate                       19415 non-null  float64\n",
      " 11  primary_cleaner.input.depressant                    19402 non-null  float64\n",
      " 12  primary_cleaner.input.feed_size                     19439 non-null  float64\n",
      " 13  primary_cleaner.input.xanthate                      19335 non-null  float64\n",
      " 14  primary_cleaner.output.concentrate_ag               19439 non-null  float64\n",
      " 15  primary_cleaner.output.concentrate_pb               19323 non-null  float64\n",
      " 16  primary_cleaner.output.concentrate_sol              19069 non-null  float64\n",
      " 17  primary_cleaner.output.concentrate_au               19439 non-null  float64\n",
      " 18  primary_cleaner.output.tail_ag                      19435 non-null  float64\n",
      " 19  primary_cleaner.output.tail_pb                      19418 non-null  float64\n",
      " 20  primary_cleaner.output.tail_sol                     19377 non-null  float64\n",
      " 21  primary_cleaner.output.tail_au                      19439 non-null  float64\n",
      " 22  primary_cleaner.state.floatbank8_a_air              19435 non-null  float64\n",
      " 23  primary_cleaner.state.floatbank8_a_level            19438 non-null  float64\n",
      " 24  primary_cleaner.state.floatbank8_b_air              19435 non-null  float64\n",
      " 25  primary_cleaner.state.floatbank8_b_level            19438 non-null  float64\n",
      " 26  primary_cleaner.state.floatbank8_c_air              19437 non-null  float64\n",
      " 27  primary_cleaner.state.floatbank8_c_level            19438 non-null  float64\n",
      " 28  primary_cleaner.state.floatbank8_d_air              19436 non-null  float64\n",
      " 29  primary_cleaner.state.floatbank8_d_level            19438 non-null  float64\n",
      " 30  rougher.calculation.sulfate_to_au_concentrate       19437 non-null  float64\n",
      " 31  rougher.calculation.floatbank10_sulfate_to_au_feed  19437 non-null  float64\n",
      " 32  rougher.calculation.floatbank11_sulfate_to_au_feed  19437 non-null  float64\n",
      " 33  rougher.calculation.au_pb_ratio                     19439 non-null  float64\n",
      " 34  rougher.input.feed_ag                               19439 non-null  float64\n",
      " 35  rougher.input.feed_pb                               19339 non-null  float64\n",
      " 36  rougher.input.feed_rate                             19428 non-null  float64\n",
      " 37  rougher.input.feed_size                             19294 non-null  float64\n",
      " 38  rougher.input.feed_sol                              19340 non-null  float64\n",
      " 39  rougher.input.feed_au                               19439 non-null  float64\n",
      " 40  rougher.input.floatbank10_sulfate                   19405 non-null  float64\n",
      " 41  rougher.input.floatbank10_xanthate                  19431 non-null  float64\n",
      " 42  rougher.input.floatbank11_sulfate                   19395 non-null  float64\n",
      " 43  rougher.input.floatbank11_xanthate                  18986 non-null  float64\n",
      " 44  rougher.output.concentrate_ag                       19439 non-null  float64\n",
      " 45  rougher.output.concentrate_pb                       19439 non-null  float64\n",
      " 46  rougher.output.concentrate_sol                      19416 non-null  float64\n",
      " 47  rougher.output.concentrate_au                       19439 non-null  float64\n",
      " 48  rougher.output.recovery                             19439 non-null  float64\n",
      " 49  rougher.output.tail_ag                              19438 non-null  float64\n",
      " 50  rougher.output.tail_pb                              19439 non-null  float64\n",
      " 51  rougher.output.tail_sol                             19439 non-null  float64\n",
      " 52  rougher.output.tail_au                              19439 non-null  float64\n",
      " 53  rougher.state.floatbank10_a_air                     19438 non-null  float64\n",
      " 54  rougher.state.floatbank10_a_level                   19438 non-null  float64\n",
      " 55  rougher.state.floatbank10_b_air                     19438 non-null  float64\n",
      " 56  rougher.state.floatbank10_b_level                   19438 non-null  float64\n",
      " 57  rougher.state.floatbank10_c_air                     19438 non-null  float64\n",
      " 58  rougher.state.floatbank10_c_level                   19438 non-null  float64\n",
      " 59  rougher.state.floatbank10_d_air                     19439 non-null  float64\n",
      " 60  rougher.state.floatbank10_d_level                   19439 non-null  float64\n",
      " 61  rougher.state.floatbank10_e_air                     19003 non-null  float64\n",
      " 62  rougher.state.floatbank10_e_level                   19439 non-null  float64\n",
      " 63  rougher.state.floatbank10_f_air                     19439 non-null  float64\n",
      " 64  rougher.state.floatbank10_f_level                   19439 non-null  float64\n",
      " 65  secondary_cleaner.output.tail_ag                    19437 non-null  float64\n",
      " 66  secondary_cleaner.output.tail_pb                    19427 non-null  float64\n",
      " 67  secondary_cleaner.output.tail_sol                   17691 non-null  float64\n",
      " 68  secondary_cleaner.output.tail_au                    19439 non-null  float64\n",
      " 69  secondary_cleaner.state.floatbank2_a_air            19219 non-null  float64\n",
      " 70  secondary_cleaner.state.floatbank2_a_level          19438 non-null  float64\n",
      " 71  secondary_cleaner.state.floatbank2_b_air            19416 non-null  float64\n",
      " 72  secondary_cleaner.state.floatbank2_b_level          19438 non-null  float64\n",
      " 73  secondary_cleaner.state.floatbank3_a_air            19426 non-null  float64\n",
      " 74  secondary_cleaner.state.floatbank3_a_level          19438 non-null  float64\n",
      " 75  secondary_cleaner.state.floatbank3_b_air            19438 non-null  float64\n",
      " 76  secondary_cleaner.state.floatbank3_b_level          19438 non-null  float64\n",
      " 77  secondary_cleaner.state.floatbank4_a_air            19433 non-null  float64\n",
      " 78  secondary_cleaner.state.floatbank4_a_level          19438 non-null  float64\n",
      " 79  secondary_cleaner.state.floatbank4_b_air            19438 non-null  float64\n",
      " 80  secondary_cleaner.state.floatbank4_b_level          19438 non-null  float64\n",
      " 81  secondary_cleaner.state.floatbank5_a_air            19438 non-null  float64\n",
      " 82  secondary_cleaner.state.floatbank5_a_level          19438 non-null  float64\n",
      " 83  secondary_cleaner.state.floatbank5_b_air            19438 non-null  float64\n",
      " 84  secondary_cleaner.state.floatbank5_b_level          19438 non-null  float64\n",
      " 85  secondary_cleaner.state.floatbank6_a_air            19437 non-null  float64\n",
      " 86  secondary_cleaner.state.floatbank6_a_level          19438 non-null  float64\n",
      "dtypes: float64(86), object(1)\n",
      "memory usage: 12.9+ MB\n"
     ]
    },
    {
     "data": {
      "text/plain": [
       "None"
      ]
     },
     "metadata": {},
     "output_type": "display_data"
    },
    {
     "name": "stdout",
     "output_type": "stream",
     "text": [
      "\n",
      "------------------------------------------------------------------------------------------------------------\n"
     ]
    }
   ],
   "source": [
    "for data in [data_train, data_test, data_full]:\n",
    "\n",
    "    \n",
    "    display(data.head(5))\n",
    "    display(data.info())\n",
    "    print(\"\\n------------------------------------------------------------------------------------------------------------\")"
   ]
  },
  {
   "cell_type": "markdown",
   "id": "e5b9b9be",
   "metadata": {},
   "source": [
    "Проверим правильность рассчета эффективности обогащения. Напишем функцию для расчета."
   ]
  },
  {
   "cell_type": "code",
   "execution_count": 4,
   "id": "f5e34045",
   "metadata": {},
   "outputs": [],
   "source": [
    "def enrichment_efficiency(data):\n",
    "    c = data['rougher.output.concentrate_au'] # доля золота в концентрате после флотации/очистки\n",
    "    f = data['rougher.input.feed_au'] # доля золота в сырье/концентрате до флотации/очистки\n",
    "    t = data['rougher.output.tail_au'] # доля золота в отвальных хвостах после флотации/очистки\n",
    "    \n",
    "    return ((c*(f-t)) / (f*(c-t)) *100) # формула для расчета эффективности"
   ]
  },
  {
   "cell_type": "code",
   "execution_count": 5,
   "id": "e5740fcd",
   "metadata": {},
   "outputs": [],
   "source": [
    "ench_efficiency = data_train.apply(enrichment_efficiency, axis = 1)"
   ]
  },
  {
   "cell_type": "code",
   "execution_count": 6,
   "id": "bdd9f2f4",
   "metadata": {},
   "outputs": [
    {
     "name": "stdout",
     "output_type": "stream",
     "text": [
      "MAE enrichment_efficiency: 9.73512347450521e-15\n"
     ]
    }
   ],
   "source": [
    "ench_efficiency_mae = mean_absolute_error(ench_efficiency, data_train['rougher.output.recovery'])\n",
    "print(f'MAE enrichment_efficiency: {ench_efficiency_mae}')"
   ]
  },
  {
   "cell_type": "markdown",
   "id": "75224efa",
   "metadata": {},
   "source": [
    "Ошибка минимальна, вычисления верны."
   ]
  },
  {
   "cell_type": "markdown",
   "id": "53000049",
   "metadata": {},
   "source": [
    "Проанализируем признаки, недоступные в тестовой выборке."
   ]
  },
  {
   "cell_type": "code",
   "execution_count": 7,
   "id": "62efaf79",
   "metadata": {
    "scrolled": true
   },
   "outputs": [
    {
     "data": {
      "text/plain": [
       "{'final.output.concentrate_ag',\n",
       " 'final.output.concentrate_au',\n",
       " 'final.output.concentrate_pb',\n",
       " 'final.output.concentrate_sol',\n",
       " 'final.output.recovery',\n",
       " 'final.output.tail_ag',\n",
       " 'final.output.tail_au',\n",
       " 'final.output.tail_pb',\n",
       " 'final.output.tail_sol',\n",
       " 'primary_cleaner.output.concentrate_ag',\n",
       " 'primary_cleaner.output.concentrate_au',\n",
       " 'primary_cleaner.output.concentrate_pb',\n",
       " 'primary_cleaner.output.concentrate_sol',\n",
       " 'primary_cleaner.output.tail_ag',\n",
       " 'primary_cleaner.output.tail_au',\n",
       " 'primary_cleaner.output.tail_pb',\n",
       " 'primary_cleaner.output.tail_sol',\n",
       " 'rougher.calculation.au_pb_ratio',\n",
       " 'rougher.calculation.floatbank10_sulfate_to_au_feed',\n",
       " 'rougher.calculation.floatbank11_sulfate_to_au_feed',\n",
       " 'rougher.calculation.sulfate_to_au_concentrate',\n",
       " 'rougher.output.concentrate_ag',\n",
       " 'rougher.output.concentrate_au',\n",
       " 'rougher.output.concentrate_pb',\n",
       " 'rougher.output.concentrate_sol',\n",
       " 'rougher.output.recovery',\n",
       " 'rougher.output.tail_ag',\n",
       " 'rougher.output.tail_au',\n",
       " 'rougher.output.tail_pb',\n",
       " 'rougher.output.tail_sol',\n",
       " 'secondary_cleaner.output.tail_ag',\n",
       " 'secondary_cleaner.output.tail_au',\n",
       " 'secondary_cleaner.output.tail_pb',\n",
       " 'secondary_cleaner.output.tail_sol'}"
      ]
     },
     "execution_count": 7,
     "metadata": {},
     "output_type": "execute_result"
    }
   ],
   "source": [
    "missed_signs = set(data_train.columns) - set(data_test.columns)\n",
    "missed_signs"
   ]
  },
  {
   "cell_type": "markdown",
   "id": "dc8c21e9",
   "metadata": {},
   "source": [
    "Видно, что в тестовой выборке отсутсвуют столбцы с выходными парметрами(`output`) и вычислениями(`calculation`) продукта на каждом этапе. Также в тестовой выборки отсутствуют целевые признаки `rougher.output.recovery` и `final.output.recovery`, добавим их в тестовую выборку."
   ]
  },
  {
   "cell_type": "code",
   "execution_count": 8,
   "id": "756e6181",
   "metadata": {},
   "outputs": [],
   "source": [
    "data_test = data_test.merge(data_full.loc[:, ['date','rougher.output.recovery','final.output.recovery']], on='date')"
   ]
  },
  {
   "cell_type": "markdown",
   "id": "f5c507f2",
   "metadata": {},
   "source": [
    "**Предобработка данных**"
   ]
  },
  {
   "cell_type": "markdown",
   "id": "75d6cdcf",
   "metadata": {},
   "source": [
    "Проведем предобработку данных, которые содержутся в переменной `data_train` и `data_test`, так как эти данные будут использоваться при обучении.\n",
    "Проверим на наличие:\n",
    "\n",
    "* дубликатов \n",
    "\n",
    "* пропусков\n",
    "\n",
    "* неверных типов\n",
    "\n",
    "* правильность регистра"
   ]
  },
  {
   "cell_type": "markdown",
   "id": "38038dc2",
   "metadata": {},
   "source": [
    "**Дубликаты**"
   ]
  },
  {
   "cell_type": "code",
   "execution_count": 9,
   "id": "22275f4d",
   "metadata": {},
   "outputs": [
    {
     "name": "stdout",
     "output_type": "stream",
     "text": [
      "Количество дубликатов в data_train: 0\n",
      "Количество дубликатов в data_test: 0\n"
     ]
    }
   ],
   "source": [
    "print(f'Количество дубликатов в data_train: {data_train.duplicated().sum()}')\n",
    "print(f'Количество дубликатов в data_test: {data_train.duplicated().sum()}')"
   ]
  },
  {
   "cell_type": "markdown",
   "id": "c49e05f6",
   "metadata": {},
   "source": [
    "Дубликаты отсутсвтуют."
   ]
  },
  {
   "cell_type": "markdown",
   "id": "45b1fda1",
   "metadata": {},
   "source": [
    "**Пропуски**"
   ]
  },
  {
   "cell_type": "markdown",
   "id": "4cd036b9",
   "metadata": {},
   "source": [
    "Выведем пропуски."
   ]
  },
  {
   "cell_type": "code",
   "execution_count": 10,
   "id": "cd0a6ef8",
   "metadata": {},
   "outputs": [
    {
     "data": {
      "text/plain": [
       "final.output.concentrate_ag                   True\n",
       "final.output.concentrate_pb                   True\n",
       "final.output.concentrate_sol                  True\n",
       "final.output.tail_pb                          True\n",
       "final.output.tail_sol                         True\n",
       "                                              ... \n",
       "secondary_cleaner.state.floatbank5_a_level    True\n",
       "secondary_cleaner.state.floatbank5_b_air      True\n",
       "secondary_cleaner.state.floatbank5_b_level    True\n",
       "secondary_cleaner.state.floatbank6_a_air      True\n",
       "secondary_cleaner.state.floatbank6_a_level    True\n",
       "Length: 62, dtype: bool"
      ]
     },
     "metadata": {},
     "output_type": "display_data"
    },
    {
     "name": "stdout",
     "output_type": "stream",
     "text": [
      "------------------------------------------------\n"
     ]
    },
    {
     "data": {
      "text/plain": [
       "primary_cleaner.input.sulfate               True\n",
       "primary_cleaner.input.depressant            True\n",
       "primary_cleaner.input.xanthate              True\n",
       "rougher.input.feed_rate                     True\n",
       "rougher.input.feed_size                     True\n",
       "rougher.input.feed_sol                      True\n",
       "rougher.input.floatbank10_sulfate           True\n",
       "rougher.input.floatbank11_sulfate           True\n",
       "rougher.input.floatbank11_xanthate          True\n",
       "secondary_cleaner.state.floatbank2_a_air    True\n",
       "secondary_cleaner.state.floatbank2_b_air    True\n",
       "secondary_cleaner.state.floatbank3_a_air    True\n",
       "dtype: bool"
      ]
     },
     "metadata": {},
     "output_type": "display_data"
    }
   ],
   "source": [
    "isna_data_train = (data_train.isna().sum() > 0)\n",
    "display(isna_data_train[isna_data_train.values == True])\n",
    "\n",
    "print('------------------------------------------------')\n",
    "\n",
    "isna_data_test = (data_test.isna().sum() > 0)\n",
    "display(isna_data_test[isna_data_test.values == True])"
   ]
  },
  {
   "cell_type": "markdown",
   "id": "47fb8084",
   "metadata": {},
   "source": [
    "Из условия, что `cоседние по времени параметры часто похожи`, можно сделать заполнение пропусков предыдущем значением, предварительно отсортировав данные по столбцу `date`"
   ]
  },
  {
   "cell_type": "code",
   "execution_count": 11,
   "id": "f4221327",
   "metadata": {},
   "outputs": [],
   "source": [
    "data_train = data_train.sort_values(by = 'date')\n",
    "data_test = data_test.sort_values(by = 'date')\n",
    "\n",
    "data_train = data_train.fillna(method='ffill')\n",
    "data_test = data_test.fillna(method='ffill')"
   ]
  },
  {
   "cell_type": "markdown",
   "id": "d5de457c",
   "metadata": {},
   "source": [
    "Столбец `date` нам больше не понадобится, удалим его. "
   ]
  },
  {
   "cell_type": "code",
   "execution_count": 12,
   "id": "bcc1e7da",
   "metadata": {},
   "outputs": [],
   "source": [
    "data_train = data_train.drop('date', axis = 1)\n",
    "data_test = data_test.drop('date', axis = 1)"
   ]
  },
  {
   "cell_type": "markdown",
   "id": "961ae2ef",
   "metadata": {},
   "source": [
    "Проверим оставшиеся пропуски."
   ]
  },
  {
   "cell_type": "code",
   "execution_count": 13,
   "id": "fc88ee1c",
   "metadata": {},
   "outputs": [
    {
     "data": {
      "text/plain": [
       "Series([], dtype: bool)"
      ]
     },
     "metadata": {},
     "output_type": "display_data"
    },
    {
     "name": "stdout",
     "output_type": "stream",
     "text": [
      "------------------------------------------------\n"
     ]
    },
    {
     "data": {
      "text/plain": [
       "Series([], dtype: bool)"
      ]
     },
     "metadata": {},
     "output_type": "display_data"
    }
   ],
   "source": [
    "isna_data_train = (data_train.isna().sum() > 0)\n",
    "display(isna_data_train[isna_data_train.values == True])\n",
    "\n",
    "print('------------------------------------------------')\n",
    "\n",
    "isna_data_test = (data_test.isna().sum() > 0)\n",
    "display(isna_data_test[isna_data_test.values == True])"
   ]
  },
  {
   "cell_type": "markdown",
   "id": "6c4deeb7",
   "metadata": {},
   "source": [
    "Пропусков большен нет."
   ]
  },
  {
   "cell_type": "markdown",
   "id": "ec703fba",
   "metadata": {},
   "source": [
    "**Неверные типы**"
   ]
  },
  {
   "cell_type": "code",
   "execution_count": 14,
   "id": "66c74a06",
   "metadata": {
    "scrolled": true
   },
   "outputs": [
    {
     "name": "stdout",
     "output_type": "stream",
     "text": [
      "<class 'pandas.core.frame.DataFrame'>\n",
      "Int64Index: 14149 entries, 0 to 14148\n",
      "Data columns (total 86 columns):\n",
      " #   Column                                              Non-Null Count  Dtype  \n",
      "---  ------                                              --------------  -----  \n",
      " 0   final.output.concentrate_ag                         14149 non-null  float64\n",
      " 1   final.output.concentrate_pb                         14149 non-null  float64\n",
      " 2   final.output.concentrate_sol                        14149 non-null  float64\n",
      " 3   final.output.concentrate_au                         14149 non-null  float64\n",
      " 4   final.output.recovery                               14149 non-null  float64\n",
      " 5   final.output.tail_ag                                14149 non-null  float64\n",
      " 6   final.output.tail_pb                                14149 non-null  float64\n",
      " 7   final.output.tail_sol                               14149 non-null  float64\n",
      " 8   final.output.tail_au                                14149 non-null  float64\n",
      " 9   primary_cleaner.input.sulfate                       14149 non-null  float64\n",
      " 10  primary_cleaner.input.depressant                    14149 non-null  float64\n",
      " 11  primary_cleaner.input.feed_size                     14149 non-null  float64\n",
      " 12  primary_cleaner.input.xanthate                      14149 non-null  float64\n",
      " 13  primary_cleaner.output.concentrate_ag               14149 non-null  float64\n",
      " 14  primary_cleaner.output.concentrate_pb               14149 non-null  float64\n",
      " 15  primary_cleaner.output.concentrate_sol              14149 non-null  float64\n",
      " 16  primary_cleaner.output.concentrate_au               14149 non-null  float64\n",
      " 17  primary_cleaner.output.tail_ag                      14149 non-null  float64\n",
      " 18  primary_cleaner.output.tail_pb                      14149 non-null  float64\n",
      " 19  primary_cleaner.output.tail_sol                     14149 non-null  float64\n",
      " 20  primary_cleaner.output.tail_au                      14149 non-null  float64\n",
      " 21  primary_cleaner.state.floatbank8_a_air              14149 non-null  float64\n",
      " 22  primary_cleaner.state.floatbank8_a_level            14149 non-null  float64\n",
      " 23  primary_cleaner.state.floatbank8_b_air              14149 non-null  float64\n",
      " 24  primary_cleaner.state.floatbank8_b_level            14149 non-null  float64\n",
      " 25  primary_cleaner.state.floatbank8_c_air              14149 non-null  float64\n",
      " 26  primary_cleaner.state.floatbank8_c_level            14149 non-null  float64\n",
      " 27  primary_cleaner.state.floatbank8_d_air              14149 non-null  float64\n",
      " 28  primary_cleaner.state.floatbank8_d_level            14149 non-null  float64\n",
      " 29  rougher.calculation.sulfate_to_au_concentrate       14149 non-null  float64\n",
      " 30  rougher.calculation.floatbank10_sulfate_to_au_feed  14149 non-null  float64\n",
      " 31  rougher.calculation.floatbank11_sulfate_to_au_feed  14149 non-null  float64\n",
      " 32  rougher.calculation.au_pb_ratio                     14149 non-null  float64\n",
      " 33  rougher.input.feed_ag                               14149 non-null  float64\n",
      " 34  rougher.input.feed_pb                               14149 non-null  float64\n",
      " 35  rougher.input.feed_rate                             14149 non-null  float64\n",
      " 36  rougher.input.feed_size                             14149 non-null  float64\n",
      " 37  rougher.input.feed_sol                              14149 non-null  float64\n",
      " 38  rougher.input.feed_au                               14149 non-null  float64\n",
      " 39  rougher.input.floatbank10_sulfate                   14149 non-null  float64\n",
      " 40  rougher.input.floatbank10_xanthate                  14149 non-null  float64\n",
      " 41  rougher.input.floatbank11_sulfate                   14149 non-null  float64\n",
      " 42  rougher.input.floatbank11_xanthate                  14149 non-null  float64\n",
      " 43  rougher.output.concentrate_ag                       14149 non-null  float64\n",
      " 44  rougher.output.concentrate_pb                       14149 non-null  float64\n",
      " 45  rougher.output.concentrate_sol                      14149 non-null  float64\n",
      " 46  rougher.output.concentrate_au                       14149 non-null  float64\n",
      " 47  rougher.output.recovery                             14149 non-null  float64\n",
      " 48  rougher.output.tail_ag                              14149 non-null  float64\n",
      " 49  rougher.output.tail_pb                              14149 non-null  float64\n",
      " 50  rougher.output.tail_sol                             14149 non-null  float64\n",
      " 51  rougher.output.tail_au                              14149 non-null  float64\n",
      " 52  rougher.state.floatbank10_a_air                     14149 non-null  float64\n",
      " 53  rougher.state.floatbank10_a_level                   14149 non-null  float64\n",
      " 54  rougher.state.floatbank10_b_air                     14149 non-null  float64\n",
      " 55  rougher.state.floatbank10_b_level                   14149 non-null  float64\n",
      " 56  rougher.state.floatbank10_c_air                     14149 non-null  float64\n",
      " 57  rougher.state.floatbank10_c_level                   14149 non-null  float64\n",
      " 58  rougher.state.floatbank10_d_air                     14149 non-null  float64\n",
      " 59  rougher.state.floatbank10_d_level                   14149 non-null  float64\n",
      " 60  rougher.state.floatbank10_e_air                     14149 non-null  float64\n",
      " 61  rougher.state.floatbank10_e_level                   14149 non-null  float64\n",
      " 62  rougher.state.floatbank10_f_air                     14149 non-null  float64\n",
      " 63  rougher.state.floatbank10_f_level                   14149 non-null  float64\n",
      " 64  secondary_cleaner.output.tail_ag                    14149 non-null  float64\n",
      " 65  secondary_cleaner.output.tail_pb                    14149 non-null  float64\n",
      " 66  secondary_cleaner.output.tail_sol                   14149 non-null  float64\n",
      " 67  secondary_cleaner.output.tail_au                    14149 non-null  float64\n",
      " 68  secondary_cleaner.state.floatbank2_a_air            14149 non-null  float64\n",
      " 69  secondary_cleaner.state.floatbank2_a_level          14149 non-null  float64\n",
      " 70  secondary_cleaner.state.floatbank2_b_air            14149 non-null  float64\n",
      " 71  secondary_cleaner.state.floatbank2_b_level          14149 non-null  float64\n",
      " 72  secondary_cleaner.state.floatbank3_a_air            14149 non-null  float64\n",
      " 73  secondary_cleaner.state.floatbank3_a_level          14149 non-null  float64\n",
      " 74  secondary_cleaner.state.floatbank3_b_air            14149 non-null  float64\n",
      " 75  secondary_cleaner.state.floatbank3_b_level          14149 non-null  float64\n",
      " 76  secondary_cleaner.state.floatbank4_a_air            14149 non-null  float64\n",
      " 77  secondary_cleaner.state.floatbank4_a_level          14149 non-null  float64\n",
      " 78  secondary_cleaner.state.floatbank4_b_air            14149 non-null  float64\n",
      " 79  secondary_cleaner.state.floatbank4_b_level          14149 non-null  float64\n",
      " 80  secondary_cleaner.state.floatbank5_a_air            14149 non-null  float64\n",
      " 81  secondary_cleaner.state.floatbank5_a_level          14149 non-null  float64\n",
      " 82  secondary_cleaner.state.floatbank5_b_air            14149 non-null  float64\n",
      " 83  secondary_cleaner.state.floatbank5_b_level          14149 non-null  float64\n",
      " 84  secondary_cleaner.state.floatbank6_a_air            14149 non-null  float64\n",
      " 85  secondary_cleaner.state.floatbank6_a_level          14149 non-null  float64\n",
      "dtypes: float64(86)\n",
      "memory usage: 9.4 MB\n"
     ]
    },
    {
     "data": {
      "text/plain": [
       "None"
      ]
     },
     "metadata": {},
     "output_type": "display_data"
    },
    {
     "name": "stdout",
     "output_type": "stream",
     "text": [
      "------------------------------------------------\n",
      "<class 'pandas.core.frame.DataFrame'>\n",
      "Int64Index: 5290 entries, 0 to 5289\n",
      "Data columns (total 54 columns):\n",
      " #   Column                                      Non-Null Count  Dtype  \n",
      "---  ------                                      --------------  -----  \n",
      " 0   primary_cleaner.input.sulfate               5290 non-null   float64\n",
      " 1   primary_cleaner.input.depressant            5290 non-null   float64\n",
      " 2   primary_cleaner.input.feed_size             5290 non-null   float64\n",
      " 3   primary_cleaner.input.xanthate              5290 non-null   float64\n",
      " 4   primary_cleaner.state.floatbank8_a_air      5290 non-null   float64\n",
      " 5   primary_cleaner.state.floatbank8_a_level    5290 non-null   float64\n",
      " 6   primary_cleaner.state.floatbank8_b_air      5290 non-null   float64\n",
      " 7   primary_cleaner.state.floatbank8_b_level    5290 non-null   float64\n",
      " 8   primary_cleaner.state.floatbank8_c_air      5290 non-null   float64\n",
      " 9   primary_cleaner.state.floatbank8_c_level    5290 non-null   float64\n",
      " 10  primary_cleaner.state.floatbank8_d_air      5290 non-null   float64\n",
      " 11  primary_cleaner.state.floatbank8_d_level    5290 non-null   float64\n",
      " 12  rougher.input.feed_ag                       5290 non-null   float64\n",
      " 13  rougher.input.feed_pb                       5290 non-null   float64\n",
      " 14  rougher.input.feed_rate                     5290 non-null   float64\n",
      " 15  rougher.input.feed_size                     5290 non-null   float64\n",
      " 16  rougher.input.feed_sol                      5290 non-null   float64\n",
      " 17  rougher.input.feed_au                       5290 non-null   float64\n",
      " 18  rougher.input.floatbank10_sulfate           5290 non-null   float64\n",
      " 19  rougher.input.floatbank10_xanthate          5290 non-null   float64\n",
      " 20  rougher.input.floatbank11_sulfate           5290 non-null   float64\n",
      " 21  rougher.input.floatbank11_xanthate          5290 non-null   float64\n",
      " 22  rougher.state.floatbank10_a_air             5290 non-null   float64\n",
      " 23  rougher.state.floatbank10_a_level           5290 non-null   float64\n",
      " 24  rougher.state.floatbank10_b_air             5290 non-null   float64\n",
      " 25  rougher.state.floatbank10_b_level           5290 non-null   float64\n",
      " 26  rougher.state.floatbank10_c_air             5290 non-null   float64\n",
      " 27  rougher.state.floatbank10_c_level           5290 non-null   float64\n",
      " 28  rougher.state.floatbank10_d_air             5290 non-null   float64\n",
      " 29  rougher.state.floatbank10_d_level           5290 non-null   float64\n",
      " 30  rougher.state.floatbank10_e_air             5290 non-null   float64\n",
      " 31  rougher.state.floatbank10_e_level           5290 non-null   float64\n",
      " 32  rougher.state.floatbank10_f_air             5290 non-null   float64\n",
      " 33  rougher.state.floatbank10_f_level           5290 non-null   float64\n",
      " 34  secondary_cleaner.state.floatbank2_a_air    5290 non-null   float64\n",
      " 35  secondary_cleaner.state.floatbank2_a_level  5290 non-null   float64\n",
      " 36  secondary_cleaner.state.floatbank2_b_air    5290 non-null   float64\n",
      " 37  secondary_cleaner.state.floatbank2_b_level  5290 non-null   float64\n",
      " 38  secondary_cleaner.state.floatbank3_a_air    5290 non-null   float64\n",
      " 39  secondary_cleaner.state.floatbank3_a_level  5290 non-null   float64\n",
      " 40  secondary_cleaner.state.floatbank3_b_air    5290 non-null   float64\n",
      " 41  secondary_cleaner.state.floatbank3_b_level  5290 non-null   float64\n",
      " 42  secondary_cleaner.state.floatbank4_a_air    5290 non-null   float64\n",
      " 43  secondary_cleaner.state.floatbank4_a_level  5290 non-null   float64\n",
      " 44  secondary_cleaner.state.floatbank4_b_air    5290 non-null   float64\n",
      " 45  secondary_cleaner.state.floatbank4_b_level  5290 non-null   float64\n",
      " 46  secondary_cleaner.state.floatbank5_a_air    5290 non-null   float64\n",
      " 47  secondary_cleaner.state.floatbank5_a_level  5290 non-null   float64\n",
      " 48  secondary_cleaner.state.floatbank5_b_air    5290 non-null   float64\n",
      " 49  secondary_cleaner.state.floatbank5_b_level  5290 non-null   float64\n",
      " 50  secondary_cleaner.state.floatbank6_a_air    5290 non-null   float64\n",
      " 51  secondary_cleaner.state.floatbank6_a_level  5290 non-null   float64\n",
      " 52  rougher.output.recovery                     5290 non-null   float64\n",
      " 53  final.output.recovery                       5290 non-null   float64\n",
      "dtypes: float64(54)\n",
      "memory usage: 2.2 MB\n"
     ]
    },
    {
     "data": {
      "text/plain": [
       "None"
      ]
     },
     "metadata": {},
     "output_type": "display_data"
    }
   ],
   "source": [
    "display(data_train.info())\n",
    "\n",
    "print('------------------------------------------------')\n",
    "\n",
    "display(data_test.info())"
   ]
  },
  {
   "cell_type": "markdown",
   "id": "1898f9fd",
   "metadata": {},
   "source": [
    "Все типы корректны!"
   ]
  },
  {
   "cell_type": "markdown",
   "id": "7aa24a63",
   "metadata": {},
   "source": [
    "**Правильность регистра** "
   ]
  },
  {
   "cell_type": "markdown",
   "id": "24bb7800",
   "metadata": {},
   "source": [
    "Все сторлбцы приведены к нижнему регистру. "
   ]
  },
  {
   "cell_type": "markdown",
   "id": "13946e84",
   "metadata": {},
   "source": [
    "## Анализирование данных"
   ]
  },
  {
   "cell_type": "code",
   "execution_count": 15,
   "id": "4a508caa",
   "metadata": {},
   "outputs": [
    {
     "data": {
      "text/plain": [
       "['final.output.concentrate_ag',\n",
       " 'final.output.concentrate_pb',\n",
       " 'final.output.concentrate_sol',\n",
       " 'final.output.concentrate_au',\n",
       " 'final.output.recovery',\n",
       " 'final.output.tail_ag',\n",
       " 'final.output.tail_pb',\n",
       " 'final.output.tail_sol',\n",
       " 'final.output.tail_au',\n",
       " 'primary_cleaner.input.sulfate',\n",
       " 'primary_cleaner.input.depressant',\n",
       " 'primary_cleaner.input.feed_size',\n",
       " 'primary_cleaner.input.xanthate',\n",
       " 'primary_cleaner.output.concentrate_ag',\n",
       " 'primary_cleaner.output.concentrate_pb',\n",
       " 'primary_cleaner.output.concentrate_sol',\n",
       " 'primary_cleaner.output.concentrate_au',\n",
       " 'primary_cleaner.output.tail_ag',\n",
       " 'primary_cleaner.output.tail_pb',\n",
       " 'primary_cleaner.output.tail_sol',\n",
       " 'primary_cleaner.output.tail_au',\n",
       " 'primary_cleaner.state.floatbank8_a_air',\n",
       " 'primary_cleaner.state.floatbank8_a_level',\n",
       " 'primary_cleaner.state.floatbank8_b_air',\n",
       " 'primary_cleaner.state.floatbank8_b_level',\n",
       " 'primary_cleaner.state.floatbank8_c_air',\n",
       " 'primary_cleaner.state.floatbank8_c_level',\n",
       " 'primary_cleaner.state.floatbank8_d_air',\n",
       " 'primary_cleaner.state.floatbank8_d_level',\n",
       " 'rougher.calculation.sulfate_to_au_concentrate',\n",
       " 'rougher.calculation.floatbank10_sulfate_to_au_feed',\n",
       " 'rougher.calculation.floatbank11_sulfate_to_au_feed',\n",
       " 'rougher.calculation.au_pb_ratio',\n",
       " 'rougher.input.feed_ag',\n",
       " 'rougher.input.feed_pb',\n",
       " 'rougher.input.feed_rate',\n",
       " 'rougher.input.feed_size',\n",
       " 'rougher.input.feed_sol',\n",
       " 'rougher.input.feed_au',\n",
       " 'rougher.input.floatbank10_sulfate',\n",
       " 'rougher.input.floatbank10_xanthate',\n",
       " 'rougher.input.floatbank11_sulfate',\n",
       " 'rougher.input.floatbank11_xanthate',\n",
       " 'rougher.output.concentrate_ag',\n",
       " 'rougher.output.concentrate_pb',\n",
       " 'rougher.output.concentrate_sol',\n",
       " 'rougher.output.concentrate_au',\n",
       " 'rougher.output.recovery',\n",
       " 'rougher.output.tail_ag',\n",
       " 'rougher.output.tail_pb',\n",
       " 'rougher.output.tail_sol',\n",
       " 'rougher.output.tail_au',\n",
       " 'rougher.state.floatbank10_a_air',\n",
       " 'rougher.state.floatbank10_a_level',\n",
       " 'rougher.state.floatbank10_b_air',\n",
       " 'rougher.state.floatbank10_b_level',\n",
       " 'rougher.state.floatbank10_c_air',\n",
       " 'rougher.state.floatbank10_c_level',\n",
       " 'rougher.state.floatbank10_d_air',\n",
       " 'rougher.state.floatbank10_d_level',\n",
       " 'rougher.state.floatbank10_e_air',\n",
       " 'rougher.state.floatbank10_e_level',\n",
       " 'rougher.state.floatbank10_f_air',\n",
       " 'rougher.state.floatbank10_f_level',\n",
       " 'secondary_cleaner.output.tail_ag',\n",
       " 'secondary_cleaner.output.tail_pb',\n",
       " 'secondary_cleaner.output.tail_sol',\n",
       " 'secondary_cleaner.output.tail_au',\n",
       " 'secondary_cleaner.state.floatbank2_a_air',\n",
       " 'secondary_cleaner.state.floatbank2_a_level',\n",
       " 'secondary_cleaner.state.floatbank2_b_air',\n",
       " 'secondary_cleaner.state.floatbank2_b_level',\n",
       " 'secondary_cleaner.state.floatbank3_a_air',\n",
       " 'secondary_cleaner.state.floatbank3_a_level',\n",
       " 'secondary_cleaner.state.floatbank3_b_air',\n",
       " 'secondary_cleaner.state.floatbank3_b_level',\n",
       " 'secondary_cleaner.state.floatbank4_a_air',\n",
       " 'secondary_cleaner.state.floatbank4_a_level',\n",
       " 'secondary_cleaner.state.floatbank4_b_air',\n",
       " 'secondary_cleaner.state.floatbank4_b_level',\n",
       " 'secondary_cleaner.state.floatbank5_a_air',\n",
       " 'secondary_cleaner.state.floatbank5_a_level',\n",
       " 'secondary_cleaner.state.floatbank5_b_air',\n",
       " 'secondary_cleaner.state.floatbank5_b_level',\n",
       " 'secondary_cleaner.state.floatbank6_a_air',\n",
       " 'secondary_cleaner.state.floatbank6_a_level']"
      ]
     },
     "execution_count": 15,
     "metadata": {},
     "output_type": "execute_result"
    }
   ],
   "source": [
    "list(data_train.columns)"
   ]
  },
  {
   "cell_type": "markdown",
   "id": "58312591",
   "metadata": {},
   "source": [
    "Посмотрим, как меняется концентрация металлов (Au, Ag, Pb) на различных этапах очистки."
   ]
  },
  {
   "cell_type": "markdown",
   "id": "a613a545",
   "metadata": {},
   "source": [
    "Изначальное сырье – **rougher.input**"
   ]
  },
  {
   "cell_type": "code",
   "execution_count": 16,
   "id": "f37eeb5e",
   "metadata": {},
   "outputs": [
    {
     "data": {
      "image/png": "[encoded data removed]",
      "text/plain": [
       "<Figure size 1440x360 with 1 Axes>"
      ]
     },
     "metadata": {
      "needs_background": "light"
     },
     "output_type": "display_data"
    }
   ],
   "source": [
    "for concentrate in ['rougher.input.feed_ag', 'rougher.input.feed_pb', 'rougher.input.feed_sol', 'rougher.input.feed_au']:\n",
    "    (\n",
    "    data_train[concentrate].plot(kind='hist', bins = 80,  figsize=(20,5), legend = concentrate, alpha = 0.6, xlim = (0, 50))\n",
    "        .set_title('Rougher feed concentrate', fontsize = 14, color = 'SteelBlue')\n",
    "    );"
   ]
  },
  {
   "cell_type": "markdown",
   "id": "93417644",
   "metadata": {},
   "source": [
    "Превый этап флотация – **rougher**"
   ]
  },
  {
   "cell_type": "code",
   "execution_count": 17,
   "id": "d076e8cc",
   "metadata": {},
   "outputs": [
    {
     "data": {
      "image/png": "[encoded data removed]",
      "text/plain": [
       "<Figure size 1440x360 with 1 Axes>"
      ]
     },
     "metadata": {
      "needs_background": "light"
     },
     "output_type": "display_data"
    }
   ],
   "source": [
    "for concentrate in ['rougher.output.concentrate_ag', 'rougher.output.concentrate_pb', 'rougher.output.concentrate_sol', 'rougher.output.concentrate_au']:\n",
    "    (\n",
    "    data_train[concentrate].plot(kind='hist', bins = 80,  figsize=(20,5), legend = concentrate, alpha = 0.6, xlim = (0, 50))\n",
    "        .set_title('Rougher concentrate', fontsize = 14, color = 'SteelBlue')\n",
    "    );"
   ]
  },
  {
   "cell_type": "markdown",
   "id": "0cedc213",
   "metadata": {},
   "source": [
    "Второй этап первичная отчистка – **primary_cleaner**"
   ]
  },
  {
   "cell_type": "code",
   "execution_count": 18,
   "id": "d3e46f9d",
   "metadata": {},
   "outputs": [
    {
     "data": {
      "image/png": "[encoded data removed]",
      "text/plain": [
       "<Figure size 1440x360 with 1 Axes>"
      ]
     },
     "metadata": {
      "needs_background": "light"
     },
     "output_type": "display_data"
    }
   ],
   "source": [
    "for concentrate in ['primary_cleaner.output.concentrate_ag', 'primary_cleaner.output.concentrate_pb', 'primary_cleaner.output.concentrate_sol', 'primary_cleaner.output.concentrate_au']:\n",
    "    (\n",
    "    data_train[concentrate].plot(kind='hist', bins = 80,  figsize=(20,5), legend = concentrate, alpha = 0.6, xlim = (0, 50))\n",
    "        .set_title('Primary_cleaner concentrate', fontsize = 14, color = 'SteelBlue')\n",
    "    );"
   ]
  },
  {
   "cell_type": "markdown",
   "id": "a77169b2",
   "metadata": {},
   "source": [
    "Третий этап финальная очистка – **final_cleaner**"
   ]
  },
  {
   "cell_type": "code",
   "execution_count": 19,
   "id": "91403986",
   "metadata": {},
   "outputs": [
    {
     "data": {
      "image/png": "[encoded data removed]",
      "text/plain": [
       "<Figure size 1440x360 with 1 Axes>"
      ]
     },
     "metadata": {
      "needs_background": "light"
     },
     "output_type": "display_data"
    }
   ],
   "source": [
    "for concentrate in ['final.output.concentrate_ag', 'final.output.concentrate_pb', 'final.output.concentrate_sol', 'final.output.concentrate_au']:\n",
    "    (\n",
    "    data_train[concentrate].plot(kind='hist', bins = 80,  figsize=(20,5), legend = concentrate, alpha = 0.6, xlim = (0, 50))\n",
    "        .set_title('Secondary_cleaner concentrate', fontsize = 14, color = 'SteelBlue')\n",
    "    );"
   ]
  },
  {
   "cell_type": "markdown",
   "id": "beff706d",
   "metadata": {},
   "source": [
    "**Вывод:**"
   ]
  },
  {
   "cell_type": "markdown",
   "id": "01f962ce",
   "metadata": {},
   "source": [
    "Значения концентратов металлов на каждом этапе распределены `нормально`, но имеются аномальные выбросы, которые необходимо удалить, так как они будут мешать обучению.\n",
    "\n",
    "В ходе очистки наблюдаются следующие тенденции:\n",
    "\n",
    "* концентрация `au` с каждым этапом увеличивается;\n",
    "\n",
    "* концентрация `sol` уменьшается; \n",
    "\n",
    "* концентрация `pb`,`ag` варируется от 0 до 10.\n",
    "\n"
   ]
  },
  {
   "cell_type": "code",
   "execution_count": 20,
   "id": "3eea199f",
   "metadata": {},
   "outputs": [],
   "source": [
    "data_train = data_train.loc[(data_train['rougher.output.concentrate_ag'] > 0.5) \n",
    "                            | (data_train['rougher.output.concentrate_pb'] > 0.5) \n",
    "                            | (data_train['rougher.output.concentrate_au'] > 0.5) \n",
    "                            | (data_train['rougher.output.concentrate_sol'] > 0.5)]\n",
    "\n",
    "data_train = data_train.loc[(data_train['primary_cleaner.output.concentrate_ag'] > 0.5) \n",
    "                            | (data_train['primary_cleaner.output.concentrate_pb'] > 0.5) \n",
    "                            | (data_train['primary_cleaner.output.concentrate_au'] > 0.5)\n",
    "                            | (data_train['primary_cleaner.output.concentrate_sol'] > 0.5)]\n",
    "\n",
    "data_train = data_train.loc[(data_train['final.output.concentrate_ag'] > 0.5) \n",
    "                            | (data_train['final.output.concentrate_pb'] > 0.5) \n",
    "                            | (data_train['final.output.concentrate_au'] > 0.5)\n",
    "                            | (data_train['final.output.concentrate_sol'] > 0.5)]"
   ]
  },
  {
   "cell_type": "markdown",
   "id": "a57648c7",
   "metadata": {},
   "source": [
    "Аномальные выбросы успешно удалены."
   ]
  },
  {
   "cell_type": "markdown",
   "id": "97ff5c91",
   "metadata": {},
   "source": [
    "Сравним распределения размеров гранул сырья на обучающей и тестовой выборках."
   ]
  },
  {
   "cell_type": "code",
   "execution_count": 21,
   "id": "c87ef926",
   "metadata": {},
   "outputs": [
    {
     "data": {
      "image/png": "[encoded data removed]",
      "text/plain": [
       "<Figure size 432x288 with 1 Axes>"
      ]
     },
     "metadata": {
      "needs_background": "light"
     },
     "output_type": "display_data"
    }
   ],
   "source": [
    "sns.kdeplot(\n",
    "   data=data_test['rougher.input.feed_size'],\n",
    "   fill=True, common_norm=False, palette=\"crest\",\n",
    "   alpha=.5, linewidth=0\n",
    ")\n",
    "sns.kdeplot(\n",
    "   data=data_train['rougher.input.feed_size'],\n",
    "   fill=True, common_norm=False, palette=\"crest\",\n",
    "   alpha=.5, linewidth=0\n",
    ")\n",
    "\n",
    "plt.xlabel('Rougher feed_size');"
   ]
  },
  {
   "cell_type": "code",
   "execution_count": 22,
   "id": "86c1d56f",
   "metadata": {},
   "outputs": [
    {
     "data": {
      "image/png": "[encoded data removed]",
      "text/plain": [
       "<Figure size 432x288 with 1 Axes>"
      ]
     },
     "metadata": {
      "needs_background": "light"
     },
     "output_type": "display_data"
    }
   ],
   "source": [
    "sns.kdeplot(\n",
    "   data=data_test['primary_cleaner.input.feed_size'],\n",
    "   fill=True, common_norm=False, palette=\"crest\",\n",
    "   alpha=.5, linewidth=0\n",
    ")\n",
    "sns.kdeplot(\n",
    "   data=data_train['primary_cleaner.input.feed_size'],\n",
    "   fill=True, common_norm=False, palette=\"crest\",\n",
    "   alpha=.5, linewidth=0\n",
    ")\n",
    "\n",
    "plt.xlabel('PrimClean feed_size');"
   ]
  },
  {
   "cell_type": "markdown",
   "id": "df24c0c7",
   "metadata": {},
   "source": [
    "**Вывод**"
   ]
  },
  {
   "cell_type": "markdown",
   "id": "f86b0761",
   "metadata": {},
   "source": [
    "Значения совпадают, модель будет обучаться правильно."
   ]
  },
  {
   "cell_type": "markdown",
   "id": "14624510",
   "metadata": {},
   "source": [
    "Исследуем суммарную концентрацию всех веществ на разных стадиях: в сырье, в черновом и финальном концентратах."
   ]
  },
  {
   "cell_type": "code",
   "execution_count": 23,
   "id": "82eda784",
   "metadata": {},
   "outputs": [],
   "source": [
    "sum_concentrate_of_rougher_input = 0\n",
    "sum_concentrate_of_rougher_output = 0\n",
    "sum_concentrate_of_final_output = 0\n",
    "\n",
    "for metal in ['au', 'ag', 'pb', 'sol']:\n",
    "    sum_concentrate_of_rougher_input += data_train[f'rougher.input.feed_{metal}']\n",
    "    sum_concentrate_of_rougher_output += data_train[f'rougher.output.concentrate_{metal}']\n",
    "    sum_concentrate_of_final_output += data_train[f'final.output.concentrate_{metal}']"
   ]
  },
  {
   "cell_type": "code",
   "execution_count": 24,
   "id": "0028d405",
   "metadata": {
    "scrolled": false
   },
   "outputs": [
    {
     "data": {
      "image/png": "[encoded data removed]",
      "text/plain": [
       "<Figure size 1440x360 with 1 Axes>"
      ]
     },
     "metadata": {
      "needs_background": "light"
     },
     "output_type": "display_data"
    }
   ],
   "source": [
    "plt.figure(figsize=[20, 5])\n",
    "sns.histplot(sum_concentrate_of_rougher_input, color = 'g', label = 'Исходное сырье')\n",
    "sns.histplot(sum_concentrate_of_rougher_output, color = 'b', label = 'Черновой концентрат')\n",
    "sns.histplot(sum_concentrate_of_final_output, color = 'r', label = 'Финальный концентрат')\n",
    "\n",
    "plt.xlabel('Концентрация веществ')\n",
    "plt.ylabel('Количество наблюдений')\n",
    "plt.legend()\n",
    "plt.show();"
   ]
  },
  {
   "cell_type": "markdown",
   "id": "9a418d89",
   "metadata": {},
   "source": [
    "**Вывод**"
   ]
  },
  {
   "cell_type": "markdown",
   "id": "f1d18012",
   "metadata": {},
   "source": [
    "Сумарная концентрация всех веществ увеличивается к финальному этапу, а диапозон уменьшается."
   ]
  },
  {
   "cell_type": "markdown",
   "id": "b1a7a2ce",
   "metadata": {},
   "source": [
    "## Построение модели"
   ]
  },
  {
   "cell_type": "markdown",
   "id": "58672ff0",
   "metadata": {},
   "source": [
    "Напишем функцию для вычисления sMAPE."
   ]
  },
  {
   "cell_type": "code",
   "execution_count": 25,
   "id": "28e66854",
   "metadata": {},
   "outputs": [],
   "source": [
    "def get_smape(target, predict):\n",
    "    smape = (1/len(target))*np.sum((np.abs(target - predict))/( (np.abs(target)+np.abs(predict))/2))*100\n",
    "    return smape"
   ]
  },
  {
   "cell_type": "code",
   "execution_count": 26,
   "id": "793aa98a",
   "metadata": {},
   "outputs": [],
   "source": [
    "smape_scorer = make_scorer(get_smape, greater_is_better = False)"
   ]
  },
  {
   "cell_type": "markdown",
   "id": "1b8ffc9b",
   "metadata": {},
   "source": [
    "Напишим функцию для вычисления итоговой `sMAPE`."
   ]
  },
  {
   "cell_type": "code",
   "execution_count": 27,
   "id": "575a5050",
   "metadata": {},
   "outputs": [],
   "source": [
    "def get_final_smape(rougher, final):\n",
    "    final = 0.25*rougher+0.75*final\n",
    "    return final"
   ]
  },
  {
   "cell_type": "markdown",
   "id": "0b2ab829",
   "metadata": {},
   "source": [
    "Разделим признаки на `features_train` и `target_rougher`,`target_final`. Уберем из `data_train` признаки, которые нам не понадобятся."
   ]
  },
  {
   "cell_type": "code",
   "execution_count": 28,
   "id": "155fd88b",
   "metadata": {},
   "outputs": [],
   "source": [
    "for_delete = missed_signs - set(['rougher.output.recovery','final.output.recovery'])"
   ]
  },
  {
   "cell_type": "code",
   "execution_count": 29,
   "id": "0f9373cf",
   "metadata": {},
   "outputs": [],
   "source": [
    "data_train = data_train.drop(columns = for_delete, axis=1)"
   ]
  },
  {
   "cell_type": "code",
   "execution_count": 30,
   "id": "be298934",
   "metadata": {
    "scrolled": true
   },
   "outputs": [],
   "source": [
    "features_train = data_train.drop(['rougher.output.recovery','final.output.recovery'], axis=1)\n",
    "target_rougher = data_train['rougher.output.recovery']\n",
    "target_final = data_train['final.output.recovery']"
   ]
  },
  {
   "cell_type": "markdown",
   "id": "07e9c26f",
   "metadata": {},
   "source": [
    "Масштабируем признаки. "
   ]
  },
  {
   "cell_type": "code",
   "execution_count": 31,
   "id": "ec22c833",
   "metadata": {},
   "outputs": [],
   "source": [
    "scaler = StandardScaler()\n",
    "scaler.fit(features_train)\n",
    "features_train_scaled = scaler.transform(features_train)"
   ]
  },
  {
   "cell_type": "markdown",
   "id": "e7bf0803",
   "metadata": {},
   "source": [
    "Обучим и выберем оптимальную модель."
   ]
  },
  {
   "cell_type": "markdown",
   "id": "a180b27e",
   "metadata": {},
   "source": [
    "Модель **LinearRegression** "
   ]
  },
  {
   "cell_type": "code",
   "execution_count": 32,
   "id": "045d1c0c",
   "metadata": {
    "scrolled": true
   },
   "outputs": [
    {
     "name": "stdout",
     "output_type": "stream",
     "text": [
      "CPU times: user 3.55 s, sys: 5.43 s, total: 8.98 s\n",
      "Wall time: 8.99 s\n"
     ]
    }
   ],
   "source": [
    "%%time\n",
    "dct_with_scores = {}\n",
    "\n",
    "model_lr_rougher = LinearRegression()\n",
    "smape_rougher = cross_val_score(model_lr_rougher,\n",
    "                          features_train,\n",
    "                          target_rougher,\n",
    "                          scoring=smape_scorer,\n",
    "                          cv=5)\n",
    "final_smape_rougher = smape_rougher.mean()\n",
    "\n",
    "\n",
    "model_lr_final = LinearRegression()\n",
    "smape_final = cross_val_score(model_lr_final,\n",
    "                        features_train,\n",
    "                        target_final,\n",
    "                        scoring=smape_scorer,\n",
    "                        cv=5)\n",
    "final_smape_final = smape_final.mean()\n",
    "result_smape = get_final_smape(final_smape_rougher, final_smape_final)*(-1)\n",
    "dct_with_scores['LR'] = [result_smape]"
   ]
  },
  {
   "cell_type": "markdown",
   "id": "eb787012",
   "metadata": {},
   "source": [
    "Модель **DecisionTreeRegressor**"
   ]
  },
  {
   "cell_type": "code",
   "execution_count": 33,
   "id": "4b93f789",
   "metadata": {},
   "outputs": [
    {
     "name": "stdout",
     "output_type": "stream",
     "text": [
      "CPU times: user 37.2 s, sys: 14.8 ms, total: 37.2 s\n",
      "Wall time: 38.5 s\n"
     ]
    }
   ],
   "source": [
    "%%time\n",
    "best_result_for_dt = 100\n",
    "best_param_for_dt = 0\n",
    "\n",
    "\n",
    "for depth in range(1, 11, 1):\n",
    "    \n",
    "    model_dt_rougher = DecisionTreeRegressor(max_depth=depth, random_state=12345)\n",
    "    smape_rougher = cross_val_score(model_dt_rougher,\n",
    "                              features_train,\n",
    "                              target_rougher,\n",
    "                              scoring=smape_scorer,\n",
    "                              cv=5)\n",
    "    final_smape_rougher = smape_rougher.mean()\n",
    "    \n",
    "\n",
    "    model_dt_final = DecisionTreeRegressor(max_depth=depth, random_state=12345)\n",
    "    smape_final = cross_val_score(model_dt_final, \n",
    "                                  features_train,\n",
    "                                  target_final,\n",
    "                                  scoring=smape_scorer,\n",
    "                                  cv=5)\n",
    "    \n",
    "    \n",
    "    final_smape_final = smape_final.mean()\n",
    "    result_smape = get_final_smape(final_smape_rougher, final_smape_final)*(-1)\n",
    "    if result_smape < best_result_for_dt:\n",
    "        best_result_for_dt = result_smape\n",
    "        best_param_for_dt = depth\n",
    "        \n",
    "        \n",
    "dct_with_scores['DT'] = [best_result_for_dt, best_param_for_dt]"
   ]
  },
  {
   "cell_type": "markdown",
   "id": "a5a1af08",
   "metadata": {},
   "source": [
    "Модель **RandomForestRegressor**"
   ]
  },
  {
   "cell_type": "code",
   "execution_count": null,
   "id": "40136120",
   "metadata": {},
   "outputs": [],
   "source": [
    "%%time\n",
    "best_model_for_rf = 100\n",
    "best_param_for_rf = 0\n",
    "\n",
    "for estim in range(10, 100, 30):\n",
    "    for depth in range(2,6,2):\n",
    "        \n",
    "        \n",
    "        model_rf_rougher = RandomForestRegressor(n_estimators=estim, max_depth=depth, random_state=12345)\n",
    "        smape_rougher = cross_val_score(model_rf_rougher,\n",
    "                                  features_train,\n",
    "                                  target_rougher,\n",
    "                                  scoring=smape_scorer,\n",
    "                                  cv=5)\n",
    "        final_smape_rougher = smape_rougher.mean()\n",
    "\n",
    "        model_rf_final = RandomForestRegressor(n_estimators=estim, max_depth=depth, random_state=12345)\n",
    "        smape_final = cross_val_score(model_rf_final,\n",
    "                                features_train,\n",
    "                                target_final,\n",
    "                                scoring=smape_scorer,\n",
    "                                cv=5)\n",
    "        \n",
    "        final_smape_final = smape_final.mean()\n",
    "        result_smape = get_final_smape(final_smape_rougher, final_smape_final)*(-1)\n",
    "        if result_smape < best_model_for_rf:\n",
    "            best_model_for_rf = result_smape\n",
    "            best_param_for_rf = [estim,depth]\n",
    "            \n",
    "            \n",
    "            \n",
    "dct_with_scores['RF'] = [best_model_for_rf, best_param_for_rf]"
   ]
  },
  {
   "cell_type": "code",
   "execution_count": 35,
   "id": "a4712047",
   "metadata": {},
   "outputs": [
    {
     "name": "stdout",
     "output_type": "stream",
     "text": [
      "МОДЕЛЬ LR С РЕЗУЛЬТАТОМ - 10.09107051018127\n",
      "МОДЕЛЬ DT С РЕЗУЛЬТАТОМ - 8.633445209904176\n",
      "МОДЕЛЬ RF С РЕЗУЛЬТАТОМ - 8.35980812570701\n"
     ]
    }
   ],
   "source": [
    "for key in dct_with_scores.keys():\n",
    "    print(f'МОДЕЛЬ {str(key).upper()} С РЕЗУЛЬТАТОМ - {dct_with_scores[key][0]}')"
   ]
  },
  {
   "cell_type": "code",
   "execution_count": 36,
   "id": "83923505",
   "metadata": {},
   "outputs": [
    {
     "name": "stdout",
     "output_type": "stream",
     "text": [
      "ЛУчшие параметры для модели RF: N_ESTIMATORS - 70, MAX_DEPTH - 6\n"
     ]
    }
   ],
   "source": [
    "print('ЛУчшие параметры для модели RF: N_ESTIMATORS - {}, MAX_DEPTH - {}'.format(dct_with_scores['RF'][1][0], dct_with_scores['RF'][1][1]))"
   ]
  },
  {
   "cell_type": "markdown",
   "id": "c11f5f0e",
   "metadata": {},
   "source": [
    "Лучше всех себя показала модель `RandomForestRegressor` с параметрами `max_depth` = 10, `n_estimators` = 70."
   ]
  },
  {
   "cell_type": "markdown",
   "id": "6fb051e5",
   "metadata": {},
   "source": [
    "Применим лучшую модель на тестовой выборке."
   ]
  },
  {
   "cell_type": "code",
   "execution_count": 37,
   "id": "637801a4",
   "metadata": {},
   "outputs": [],
   "source": [
    "features_test = data_test.drop(['rougher.output.recovery','final.output.recovery'], axis=1)\n",
    "target_rougher_test = data_test['rougher.output.recovery']\n",
    "target_final_test = data_test['final.output.recovery']"
   ]
  },
  {
   "cell_type": "code",
   "execution_count": 38,
   "id": "b580f220",
   "metadata": {},
   "outputs": [],
   "source": [
    "model_for_test_rougher = RandomForestRegressor(n_estimators=10, max_depth=4, random_state=12345)\n",
    "model_for_test_rougher.fit(features_train_scaled, target_rougher)\n",
    "predicted_rougher = model_for_test_rougher.predict(features_test)\n",
    "\n",
    "model_for_test_final = RandomForestRegressor(n_estimators=10, max_depth=4, random_state=12345)\n",
    "model_for_test_final.fit(features_train_scaled, target_final)\n",
    "predicted_final = model_for_test_final.predict(features_test)\n",
    "\n",
    "smape_for_test_rougher = get_smape(target_rougher_test, predicted_rougher)\n",
    "smape_for_test_final = get_smape(target_final_test, predicted_final)\n",
    "final_smape_for_test = get_final_smape(smape_for_test_rougher, smape_for_test_final)"
   ]
  },
  {
   "cell_type": "code",
   "execution_count": 39,
   "id": "e223ad65",
   "metadata": {},
   "outputs": [
    {
     "name": "stdout",
     "output_type": "stream",
     "text": [
      "\n",
      "SMAPE Для тестовой выборки - 9.49847327690356\n"
     ]
    }
   ],
   "source": [
    "print(f'\\nSMAPE Для тестовой выборки - {final_smape_for_test}')"
   ]
  },
  {
   "cell_type": "markdown",
   "id": "384670cf",
   "metadata": {},
   "source": [
    "Проверим адекватность модели с помощью `DummyRegressor`."
   ]
  },
  {
   "cell_type": "code",
   "execution_count": 40,
   "id": "e050fa52",
   "metadata": {},
   "outputs": [
    {
     "name": "stdout",
     "output_type": "stream",
     "text": [
      "\n",
      "SMAPE Константной модели для тестовой выборки - 9.832175134712106\n"
     ]
    }
   ],
   "source": [
    "model = DummyRegressor(strategy = 'mean')\n",
    "\n",
    "model.fit(features_train_scaled, target_rougher)\n",
    "predicted_rougher = model.predict(features_test)\n",
    "\n",
    "model.fit(features_train_scaled, target_final)\n",
    "predicted_final = model.predict(features_test)\n",
    "\n",
    "smape_for_test_rougher = get_smape(target_rougher_test, predicted_rougher)\n",
    "smape_for_test_final = get_smape(target_final_test, predicted_final)\n",
    "final_smape_for_test_dummy = get_final_smape(smape_for_test_rougher, smape_for_test_final)\n",
    "\n",
    "print(f'\\nSMAPE Константной модели для тестовой выборки - {final_smape_for_test_dummy}')"
   ]
  },
  {
   "cell_type": "markdown",
   "id": "0a63e36b",
   "metadata": {},
   "source": [
    "Значение константной модели больше выбранной, следовательно, выбранная модель адекватна."
   ]
  },
  {
   "cell_type": "markdown",
   "id": "d0d21c82",
   "metadata": {},
   "source": [
    "**Вывод:**"
   ]
  },
  {
   "cell_type": "markdown",
   "id": "990cb602",
   "metadata": {},
   "source": [
    "При обучении лучше всех себя показала модель: `RandomForestRegressor`, с параметрами:\n",
    "\n",
    "* `max_depth` = 10\n",
    "\n",
    "* `n_estimators` = 70\n",
    "\n",
    "Симметричное среднее абсолютное процентное отклонение, а именно `sMAPE` для тествой выборки – `9.49847327690356`, что в пределах нормы.\n",
    "\n",
    "Модель адекватна.\n",
    "        "
   ]
  }
 ],
 "metadata": {
  "ExecuteTimeLog": [
   {
    "duration": 2098,
    "start_time": "2023-03-09T09:09:39.124Z"
   },
   {
    "duration": 4337,
    "start_time": "2023-03-09T09:09:42.516Z"
   },
   {
    "duration": 162,
    "start_time": "2023-03-09T09:09:49.077Z"
   },
   {
    "duration": 4,
    "start_time": "2023-03-09T09:09:54.573Z"
   },
   {
    "duration": 319,
    "start_time": "2023-03-09T09:09:54.856Z"
   },
   {
    "duration": 4,
    "start_time": "2023-03-09T09:09:55.178Z"
   },
   {
    "duration": 15,
    "start_time": "2023-03-09T09:10:04.436Z"
   },
   {
    "duration": 124,
    "start_time": "2023-03-09T09:13:48.921Z"
   },
   {
    "duration": 23,
    "start_time": "2023-03-09T09:15:07.724Z"
   },
   {
    "duration": 254,
    "start_time": "2023-03-09T09:15:13.828Z"
   },
   {
    "duration": 31,
    "start_time": "2023-03-09T09:15:15.306Z"
   },
   {
    "duration": 54,
    "start_time": "2023-03-09T09:15:18.083Z"
   },
   {
    "duration": 9,
    "start_time": "2023-03-09T09:15:19.365Z"
   },
   {
    "duration": 14,
    "start_time": "2023-03-09T09:16:01.081Z"
   },
   {
    "duration": 27,
    "start_time": "2023-03-09T09:16:03.742Z"
   },
   {
    "duration": 27,
    "start_time": "2023-03-09T09:31:32.945Z"
   },
   {
    "duration": 5,
    "start_time": "2023-03-09T09:31:50.071Z"
   },
   {
    "duration": 880,
    "start_time": "2023-03-09T09:34:44.679Z"
   },
   {
    "duration": 802,
    "start_time": "2023-03-09T09:34:58.745Z"
   },
   {
    "duration": 994,
    "start_time": "2023-03-09T09:35:07.658Z"
   },
   {
    "duration": 766,
    "start_time": "2023-03-09T09:35:12.412Z"
   },
   {
    "duration": 905,
    "start_time": "2023-03-09T09:35:27.473Z"
   },
   {
    "duration": 804,
    "start_time": "2023-03-09T09:35:36.513Z"
   },
   {
    "duration": 827,
    "start_time": "2023-03-09T09:55:11.360Z"
   },
   {
    "duration": 1007,
    "start_time": "2023-03-09T09:55:39.857Z"
   },
   {
    "duration": 805,
    "start_time": "2023-03-09T09:55:44.303Z"
   },
   {
    "duration": 1027,
    "start_time": "2023-03-09T09:56:43.229Z"
   },
   {
    "duration": 33,
    "start_time": "2023-03-09T10:08:23.235Z"
   },
   {
    "duration": 18,
    "start_time": "2023-03-09T10:08:54.270Z"
   },
   {
    "duration": 145,
    "start_time": "2023-03-09T10:10:48.848Z"
   },
   {
    "duration": 5,
    "start_time": "2023-03-09T10:10:54.727Z"
   },
   {
    "duration": 449,
    "start_time": "2023-03-09T10:10:55.126Z"
   },
   {
    "duration": 68,
    "start_time": "2023-03-09T10:12:21.801Z"
   },
   {
    "duration": 21,
    "start_time": "2023-03-09T10:20:16.757Z"
   },
   {
    "duration": 3,
    "start_time": "2023-03-09T10:20:24.597Z"
   },
   {
    "duration": 7,
    "start_time": "2023-03-09T10:20:24.741Z"
   },
   {
    "duration": 10,
    "start_time": "2023-03-09T10:20:24.906Z"
   },
   {
    "duration": 25,
    "start_time": "2023-03-09T10:20:25.231Z"
   },
   {
    "duration": 2030,
    "start_time": "2023-03-09T10:20:32.617Z"
   },
   {
    "duration": 74,
    "start_time": "2023-03-09T10:20:43.001Z"
   },
   {
    "duration": 850,
    "start_time": "2023-03-09T10:20:43.325Z"
   },
   {
    "duration": 142,
    "start_time": "2023-03-09T10:20:44.177Z"
   },
   {
    "duration": 5,
    "start_time": "2023-03-09T10:20:44.321Z"
   },
   {
    "duration": 298,
    "start_time": "2023-03-09T10:20:44.444Z"
   },
   {
    "duration": 5,
    "start_time": "2023-03-09T10:20:44.749Z"
   },
   {
    "duration": 5,
    "start_time": "2023-03-09T10:20:45.468Z"
   },
   {
    "duration": 15,
    "start_time": "2023-03-09T10:20:46.155Z"
   },
   {
    "duration": 347,
    "start_time": "2023-03-09T10:20:47.216Z"
   },
   {
    "duration": 52,
    "start_time": "2023-03-09T10:20:47.900Z"
   },
   {
    "duration": 28,
    "start_time": "2023-03-09T10:20:48.258Z"
   },
   {
    "duration": 18,
    "start_time": "2023-03-09T10:20:48.799Z"
   },
   {
    "duration": 30,
    "start_time": "2023-03-09T10:20:49.123Z"
   },
   {
    "duration": 45,
    "start_time": "2023-03-09T10:20:49.725Z"
   },
   {
    "duration": 8,
    "start_time": "2023-03-09T10:20:51.925Z"
   },
   {
    "duration": 912,
    "start_time": "2023-03-09T10:20:52.634Z"
   },
   {
    "duration": 1027,
    "start_time": "2023-03-09T10:20:53.552Z"
   },
   {
    "duration": 910,
    "start_time": "2023-03-09T10:20:54.581Z"
   },
   {
    "duration": 1076,
    "start_time": "2023-03-09T10:20:55.494Z"
   },
   {
    "duration": 19,
    "start_time": "2023-03-09T10:20:56.572Z"
   },
   {
    "duration": 455,
    "start_time": "2023-03-09T10:20:58.201Z"
   },
   {
    "duration": 485,
    "start_time": "2023-03-09T10:20:58.658Z"
   },
   {
    "duration": 9,
    "start_time": "2023-03-09T10:21:01.902Z"
   },
   {
    "duration": 408,
    "start_time": "2023-03-09T10:21:02.551Z"
   },
   {
    "duration": 4,
    "start_time": "2023-03-09T10:21:05.853Z"
   },
   {
    "duration": 3,
    "start_time": "2023-03-09T10:21:06.632Z"
   },
   {
    "duration": 7,
    "start_time": "2023-03-09T10:21:07.632Z"
   },
   {
    "duration": 3,
    "start_time": "2023-03-09T10:21:09.057Z"
   },
   {
    "duration": 7,
    "start_time": "2023-03-09T10:21:09.725Z"
   },
   {
    "duration": 6,
    "start_time": "2023-03-09T10:21:10.927Z"
   },
   {
    "duration": 25,
    "start_time": "2023-03-09T10:21:12.229Z"
   },
   {
    "duration": 8,
    "start_time": "2023-03-09T10:21:17.941Z"
   },
   {
    "duration": 4047,
    "start_time": "2023-03-09T10:21:18.545Z"
   },
   {
    "duration": 5,
    "start_time": "2023-03-09T10:21:28.793Z"
   },
   {
    "duration": 15,
    "start_time": "2023-03-09T10:22:31.346Z"
   },
   {
    "duration": 20,
    "start_time": "2023-03-09T10:23:13.521Z"
   },
   {
    "duration": 25,
    "start_time": "2023-03-09T10:23:18.997Z"
   },
   {
    "duration": 32,
    "start_time": "2023-03-09T10:23:48.990Z"
   },
   {
    "duration": 26,
    "start_time": "2023-03-09T10:23:55.890Z"
   },
   {
    "duration": 37,
    "start_time": "2023-03-09T10:24:01.320Z"
   },
   {
    "duration": 19,
    "start_time": "2023-03-09T10:29:21.987Z"
   },
   {
    "duration": 29,
    "start_time": "2023-03-09T10:30:02.490Z"
   },
   {
    "duration": 20,
    "start_time": "2023-03-09T10:30:39.746Z"
   },
   {
    "duration": 24,
    "start_time": "2023-03-09T10:33:15.967Z"
   },
   {
    "duration": 3984,
    "start_time": "2023-03-09T10:43:44.496Z"
   },
   {
    "duration": 6,
    "start_time": "2023-03-09T10:43:50.622Z"
   },
   {
    "duration": 23,
    "start_time": "2023-03-09T10:43:51.434Z"
   },
   {
    "duration": 83,
    "start_time": "2023-03-09T10:46:10.404Z"
   },
   {
    "duration": 884,
    "start_time": "2023-03-09T10:46:10.767Z"
   },
   {
    "duration": 149,
    "start_time": "2023-03-09T10:46:11.653Z"
   },
   {
    "duration": 6,
    "start_time": "2023-03-09T10:46:12.720Z"
   },
   {
    "duration": 266,
    "start_time": "2023-03-09T10:46:13.025Z"
   },
   {
    "duration": 11,
    "start_time": "2023-03-09T10:46:13.293Z"
   },
   {
    "duration": 4,
    "start_time": "2023-03-09T10:46:14.172Z"
   },
   {
    "duration": 28,
    "start_time": "2023-03-09T10:46:14.992Z"
   },
   {
    "duration": 256,
    "start_time": "2023-03-09T10:46:17.887Z"
   },
   {
    "duration": 19,
    "start_time": "2023-03-09T10:46:18.540Z"
   },
   {
    "duration": 27,
    "start_time": "2023-03-09T10:46:18.873Z"
   },
   {
    "duration": 9,
    "start_time": "2023-03-09T10:46:19.428Z"
   },
   {
    "duration": 15,
    "start_time": "2023-03-09T10:46:19.823Z"
   },
   {
    "duration": 40,
    "start_time": "2023-03-09T10:46:20.891Z"
   },
   {
    "duration": 5,
    "start_time": "2023-03-09T10:46:25.265Z"
   },
   {
    "duration": 986,
    "start_time": "2023-03-09T10:46:31.177Z"
   },
   {
    "duration": 816,
    "start_time": "2023-03-09T10:46:33.582Z"
   },
   {
    "duration": 1030,
    "start_time": "2023-03-09T10:46:34.402Z"
   },
   {
    "duration": 818,
    "start_time": "2023-03-09T10:46:35.434Z"
   },
   {
    "duration": 18,
    "start_time": "2023-03-09T10:46:39.729Z"
   },
   {
    "duration": 434,
    "start_time": "2023-03-09T10:46:41.201Z"
   },
   {
    "duration": 383,
    "start_time": "2023-03-09T10:46:42.565Z"
   },
   {
    "duration": 4,
    "start_time": "2023-03-09T10:46:45.146Z"
   },
   {
    "duration": 378,
    "start_time": "2023-03-09T10:46:46.286Z"
   },
   {
    "duration": 2087,
    "start_time": "2023-03-09T10:46:52.783Z"
   },
   {
    "duration": 11,
    "start_time": "2023-03-09T10:53:16.770Z"
   },
   {
    "duration": 12,
    "start_time": "2023-03-09T10:53:21.045Z"
   },
   {
    "duration": 25,
    "start_time": "2023-03-09T10:53:41.102Z"
   },
   {
    "duration": 410,
    "start_time": "2023-03-09T10:53:41.972Z"
   },
   {
    "duration": 504,
    "start_time": "2023-03-09T10:53:45.262Z"
   },
   {
    "duration": 1096,
    "start_time": "2023-03-09T10:54:07.785Z"
   },
   {
    "duration": 71,
    "start_time": "2023-03-09T10:54:54.924Z"
   },
   {
    "duration": 197,
    "start_time": "2023-03-09T10:55:03.230Z"
   },
   {
    "duration": 1041,
    "start_time": "2023-03-09T10:55:07.029Z"
   },
   {
    "duration": 941,
    "start_time": "2023-03-09T10:55:29.721Z"
   },
   {
    "duration": 1114,
    "start_time": "2023-03-09T10:55:51.605Z"
   },
   {
    "duration": 1060,
    "start_time": "2023-03-09T10:57:28.327Z"
   },
   {
    "duration": 1406,
    "start_time": "2023-03-09T10:57:43.740Z"
   },
   {
    "duration": 1303,
    "start_time": "2023-03-09T10:57:58.850Z"
   },
   {
    "duration": 78,
    "start_time": "2023-03-09T11:02:28.383Z"
   },
   {
    "duration": 825,
    "start_time": "2023-03-09T11:02:28.665Z"
   },
   {
    "duration": 161,
    "start_time": "2023-03-09T11:02:29.492Z"
   },
   {
    "duration": 3,
    "start_time": "2023-03-09T11:02:29.655Z"
   },
   {
    "duration": 297,
    "start_time": "2023-03-09T11:02:29.792Z"
   },
   {
    "duration": 4,
    "start_time": "2023-03-09T11:02:30.092Z"
   },
   {
    "duration": 5,
    "start_time": "2023-03-09T11:02:31.638Z"
   },
   {
    "duration": 14,
    "start_time": "2023-03-09T11:02:32.370Z"
   },
   {
    "duration": 267,
    "start_time": "2023-03-09T11:02:33.364Z"
   },
   {
    "duration": 21,
    "start_time": "2023-03-09T11:02:34.042Z"
   },
   {
    "duration": 34,
    "start_time": "2023-03-09T11:02:34.396Z"
   },
   {
    "duration": 11,
    "start_time": "2023-03-09T11:02:35.028Z"
   },
   {
    "duration": 15,
    "start_time": "2023-03-09T11:02:35.352Z"
   },
   {
    "duration": 35,
    "start_time": "2023-03-09T11:02:35.844Z"
   },
   {
    "duration": 5,
    "start_time": "2023-03-09T11:02:38.456Z"
   },
   {
    "duration": 868,
    "start_time": "2023-03-09T11:02:39.645Z"
   },
   {
    "duration": 1039,
    "start_time": "2023-03-09T11:02:40.517Z"
   },
   {
    "duration": 825,
    "start_time": "2023-03-09T11:02:41.557Z"
   },
   {
    "duration": 827,
    "start_time": "2023-03-09T11:02:42.383Z"
   },
   {
    "duration": 23,
    "start_time": "2023-03-09T11:03:12.234Z"
   },
   {
    "duration": 593,
    "start_time": "2023-03-09T11:03:13.060Z"
   },
   {
    "duration": 412,
    "start_time": "2023-03-09T11:03:13.655Z"
   },
   {
    "duration": 10,
    "start_time": "2023-03-09T11:03:14.499Z"
   },
   {
    "duration": 1205,
    "start_time": "2023-03-09T11:03:14.754Z"
   },
   {
    "duration": 4,
    "start_time": "2023-03-09T11:03:19.679Z"
   },
   {
    "duration": 3,
    "start_time": "2023-03-09T11:03:19.853Z"
   },
   {
    "duration": 7,
    "start_time": "2023-03-09T11:03:20.226Z"
   },
   {
    "duration": 3,
    "start_time": "2023-03-09T11:03:20.939Z"
   },
   {
    "duration": 8,
    "start_time": "2023-03-09T11:03:21.113Z"
   },
   {
    "duration": 6,
    "start_time": "2023-03-09T11:03:21.292Z"
   },
   {
    "duration": 17,
    "start_time": "2023-03-09T11:03:21.644Z"
   },
   {
    "duration": 52,
    "start_time": "2023-03-10T11:37:20.619Z"
   },
   {
    "duration": 1652,
    "start_time": "2023-03-10T11:37:27.539Z"
   },
   {
    "duration": 78,
    "start_time": "2023-03-10T11:37:37.435Z"
   },
   {
    "duration": 42,
    "start_time": "2023-03-10T11:37:46.417Z"
   },
   {
    "duration": 3203,
    "start_time": "2023-03-10T11:37:46.724Z"
   },
   {
    "duration": 110,
    "start_time": "2023-03-10T11:37:49.929Z"
   },
   {
    "duration": 3,
    "start_time": "2023-03-10T11:37:50.041Z"
   },
   {
    "duration": 261,
    "start_time": "2023-03-10T11:37:50.046Z"
   },
   {
    "duration": 4,
    "start_time": "2023-03-10T11:37:50.309Z"
   },
   {
    "duration": 6,
    "start_time": "2023-03-10T11:37:50.315Z"
   },
   {
    "duration": 20,
    "start_time": "2023-03-10T11:37:50.322Z"
   },
   {
    "duration": 230,
    "start_time": "2023-03-10T11:37:50.484Z"
   },
   {
    "duration": 16,
    "start_time": "2023-03-10T11:37:51.159Z"
   },
   {
    "duration": 27,
    "start_time": "2023-03-10T11:37:51.479Z"
   },
   {
    "duration": 8,
    "start_time": "2023-03-10T11:37:52.015Z"
   },
   {
    "duration": 13,
    "start_time": "2023-03-10T11:37:52.578Z"
   },
   {
    "duration": 28,
    "start_time": "2023-03-10T11:37:52.678Z"
   },
   {
    "duration": 5,
    "start_time": "2023-03-10T11:37:53.515Z"
   },
   {
    "duration": 893,
    "start_time": "2023-03-10T11:37:54.128Z"
   },
   {
    "duration": 772,
    "start_time": "2023-03-10T11:37:55.023Z"
   },
   {
    "duration": 863,
    "start_time": "2023-03-10T11:37:55.797Z"
   },
   {
    "duration": 750,
    "start_time": "2023-03-10T11:37:56.665Z"
   },
   {
    "duration": 19,
    "start_time": "2023-03-10T11:37:57.417Z"
   },
   {
    "duration": 374,
    "start_time": "2023-03-10T11:37:58.723Z"
   },
   {
    "duration": 410,
    "start_time": "2023-03-10T11:37:59.099Z"
   },
   {
    "duration": 8,
    "start_time": "2023-03-10T11:37:59.928Z"
   },
   {
    "duration": 1140,
    "start_time": "2023-03-10T11:38:00.076Z"
   },
   {
    "duration": 3,
    "start_time": "2023-03-10T11:38:07.539Z"
   },
   {
    "duration": 3,
    "start_time": "2023-03-10T11:38:07.718Z"
   },
   {
    "duration": 3,
    "start_time": "2023-03-10T11:38:08.808Z"
   },
   {
    "duration": 3,
    "start_time": "2023-03-10T11:38:10.171Z"
   },
   {
    "duration": 6,
    "start_time": "2023-03-10T11:38:10.556Z"
   },
   {
    "duration": 8,
    "start_time": "2023-03-10T11:38:12.779Z"
   },
   {
    "duration": 21,
    "start_time": "2023-03-10T11:38:13.769Z"
   },
   {
    "duration": 14,
    "start_time": "2023-03-10T11:38:23.043Z"
   },
   {
    "duration": 6,
    "start_time": "2023-03-10T11:39:02.768Z"
   },
   {
    "duration": 3607,
    "start_time": "2023-03-10T11:39:02.935Z"
   },
   {
    "duration": 4,
    "start_time": "2023-03-10T11:39:06.544Z"
   },
   {
    "duration": 11,
    "start_time": "2023-03-10T11:39:08.939Z"
   },
   {
    "duration": 79,
    "start_time": "2023-03-10T11:40:21.055Z"
   },
   {
    "duration": 1985,
    "start_time": "2023-06-20T15:37:06.352Z"
   },
   {
    "duration": 5735,
    "start_time": "2023-06-20T15:37:08.343Z"
   },
   {
    "duration": 194,
    "start_time": "2023-06-20T15:37:14.087Z"
   },
   {
    "duration": 5,
    "start_time": "2023-06-20T15:37:14.283Z"
   },
   {
    "duration": 458,
    "start_time": "2023-06-20T15:37:14.291Z"
   },
   {
    "duration": 4,
    "start_time": "2023-06-20T15:37:14.751Z"
   },
   {
    "duration": 80,
    "start_time": "2023-06-20T15:37:14.758Z"
   },
   {
    "duration": 97,
    "start_time": "2023-06-20T15:37:14.839Z"
   },
   {
    "duration": 313,
    "start_time": "2023-06-20T15:37:14.938Z"
   },
   {
    "duration": 34,
    "start_time": "2023-06-20T15:37:15.254Z"
   },
   {
    "duration": 113,
    "start_time": "2023-06-20T15:37:15.290Z"
   },
   {
    "duration": 28,
    "start_time": "2023-06-20T15:37:15.409Z"
   },
   {
    "duration": 63,
    "start_time": "2023-06-20T15:37:15.439Z"
   },
   {
    "duration": 95,
    "start_time": "2023-06-20T15:37:15.505Z"
   },
   {
    "duration": 13,
    "start_time": "2023-06-20T15:37:15.606Z"
   },
   {
    "duration": 1121,
    "start_time": "2023-06-20T15:37:15.620Z"
   },
   {
    "duration": 1017,
    "start_time": "2023-06-20T15:37:16.743Z"
   },
   {
    "duration": 1151,
    "start_time": "2023-06-20T15:37:17.762Z"
   },
   {
    "duration": 1009,
    "start_time": "2023-06-20T15:37:18.915Z"
   },
   {
    "duration": 20,
    "start_time": "2023-06-20T15:37:19.926Z"
   },
   {
    "duration": 573,
    "start_time": "2023-06-20T15:37:19.948Z"
   },
   {
    "duration": 545,
    "start_time": "2023-06-20T15:37:20.535Z"
   },
   {
    "duration": 13,
    "start_time": "2023-06-20T15:37:21.085Z"
   },
   {
    "duration": 1777,
    "start_time": "2023-06-20T15:37:21.103Z"
   },
   {
    "duration": 7,
    "start_time": "2023-06-20T15:37:22.882Z"
   },
   {
    "duration": 157,
    "start_time": "2023-06-20T15:37:22.890Z"
   },
   {
    "duration": 83,
    "start_time": "2023-06-20T15:37:23.048Z"
   },
   {
    "duration": 109,
    "start_time": "2023-06-20T15:37:23.136Z"
   },
   {
    "duration": 103,
    "start_time": "2023-06-20T15:37:23.247Z"
   },
   {
    "duration": 130,
    "start_time": "2023-06-20T15:37:23.352Z"
   },
   {
    "duration": 144,
    "start_time": "2023-06-20T15:37:23.487Z"
   },
   {
    "duration": 9038,
    "start_time": "2023-06-20T15:37:23.633Z"
   },
   {
    "duration": 38524,
    "start_time": "2023-06-20T15:37:32.690Z"
   },
   {
    "duration": 16,
    "start_time": "2023-06-20T15:54:57.077Z"
   },
   {
    "duration": 37,
    "start_time": "2023-06-20T15:54:57.096Z"
   },
   {
    "duration": 68,
    "start_time": "2023-06-20T15:54:57.134Z"
   },
   {
    "duration": 4274,
    "start_time": "2023-06-20T15:54:57.204Z"
   },
   {
    "duration": 3,
    "start_time": "2023-06-20T15:55:01.481Z"
   },
   {
    "duration": 17,
    "start_time": "2023-06-20T15:55:01.486Z"
   }
  ],
  "kernelspec": {
   "display_name": "Python 3 (ipykernel)",
   "language": "python",
   "name": "python3"
  },
  "language_info": {
   "codemirror_mode": {
    "name": "ipython",
    "version": 3
   },
   "file_extension": ".py",
   "mimetype": "text/x-python",
   "name": "python",
   "nbconvert_exporter": "python",
   "pygments_lexer": "ipython3",
   "version": "3.10.7"
  },
  "toc": {
   "base_numbering": 1,
   "nav_menu": {},
   "number_sections": true,
   "sideBar": true,
   "skip_h1_title": false,
   "title_cell": " Прототип модели машинного обучения для группы компаний «Цифра»",
   "title_sidebar": "Contents",
   "toc_cell": true,
   "toc_position": {
    "height": "calc(100% - 180px)",
    "left": "10px",
    "top": "150px",
    "width": "165px"
   },
   "toc_section_display": true,
   "toc_window_display": true
  }
 },
 "nbformat": 4,
 "nbformat_minor": 5
}
